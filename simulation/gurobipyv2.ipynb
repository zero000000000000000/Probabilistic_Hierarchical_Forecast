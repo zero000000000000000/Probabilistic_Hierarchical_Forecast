{
 "cells": [
  {
   "cell_type": "code",
   "execution_count": 4,
   "metadata": {},
   "outputs": [],
   "source": [
    "import numpy as np\n",
    "import pandas as pd\n",
    "from numpy import linalg as LA\n",
    "import gurobipy as gp"
   ]
  },
  {
   "cell_type": "code",
   "execution_count": 5,
   "metadata": {},
   "outputs": [],
   "source": [
    "data = pd.read_csv('./Data/Simulated_Data_WithNoise.csv').iloc[501,:]"
   ]
  },
  {
   "cell_type": "code",
   "execution_count": 6,
   "metadata": {},
   "outputs": [
    {
     "data": {
      "text/plain": [
       "T    -762.627583\n",
       "A    -770.292401\n",
       "B       7.664819\n",
       "AA   -721.319846\n",
       "AB    -48.972555\n",
       "BA     -3.088646\n",
       "BB     10.753465\n",
       "Name: 501, dtype: float64"
      ]
     },
     "execution_count": 6,
     "metadata": {},
     "output_type": "execute_result"
    }
   ],
   "source": [
    "data"
   ]
  },
  {
   "cell_type": "code",
   "execution_count": 7,
   "metadata": {},
   "outputs": [
    {
     "data": {
      "text/plain": [
       "array([-762.62758284, -770.2924015 ,    7.66481866, -721.31984618,\n",
       "        -48.97255531,   -3.08864598,   10.75346464])"
      ]
     },
     "execution_count": 7,
     "metadata": {},
     "output_type": "execute_result"
    }
   ],
   "source": [
    "y1 = np.array(data.tolist())\n",
    "y1"
   ]
  },
  {
   "cell_type": "code",
   "execution_count": 8,
   "metadata": {},
   "outputs": [
    {
     "data": {
      "text/plain": [
       "(7, 1000)"
      ]
     },
     "execution_count": 8,
     "metadata": {},
     "output_type": "execute_result"
    }
   ],
   "source": [
    "y = np.matrix([y1]*1000).T\n",
    "y.shape"
   ]
  },
  {
   "cell_type": "code",
   "execution_count": 9,
   "metadata": {},
   "outputs": [],
   "source": [
    "import json\n",
    "with open('./Base_Forecasts/WithNoise_ARIMA.json') as file:\n",
    "    fc = json.load(file)"
   ]
  },
  {
   "cell_type": "code",
   "execution_count": 10,
   "metadata": {},
   "outputs": [
    {
     "data": {
      "text/plain": [
       "10"
      ]
     },
     "execution_count": 10,
     "metadata": {},
     "output_type": "execute_result"
    }
   ],
   "source": [
    "len(fc)"
   ]
  },
  {
   "cell_type": "code",
   "execution_count": 11,
   "metadata": {},
   "outputs": [],
   "source": [
    "mean = fc[0][0]"
   ]
  },
  {
   "cell_type": "code",
   "execution_count": 12,
   "metadata": {},
   "outputs": [
    {
     "data": {
      "text/plain": [
       "[33.38633277923239,\n",
       " 99.79343364803083,\n",
       " 57.28274672135659,\n",
       " 93.40534218249954,\n",
       " 85.54364750003883,\n",
       " 51.103992783204,\n",
       " 48.64458417576695]"
      ]
     },
     "execution_count": 12,
     "metadata": {},
     "output_type": "execute_result"
    }
   ],
   "source": [
    "var = fc[0][1]\n",
    "var"
   ]
  },
  {
   "cell_type": "code",
   "execution_count": 13,
   "metadata": {},
   "outputs": [
    {
     "data": {
      "text/plain": [
       "array([[33.38633278,  0.        ,  0.        ,  0.        ,  0.        ,\n",
       "         0.        ,  0.        ],\n",
       "       [ 0.        , 99.79343365,  0.        ,  0.        ,  0.        ,\n",
       "         0.        ,  0.        ],\n",
       "       [ 0.        ,  0.        , 57.28274672,  0.        ,  0.        ,\n",
       "         0.        ,  0.        ],\n",
       "       [ 0.        ,  0.        ,  0.        , 93.40534218,  0.        ,\n",
       "         0.        ,  0.        ],\n",
       "       [ 0.        ,  0.        ,  0.        ,  0.        , 85.5436475 ,\n",
       "         0.        ,  0.        ],\n",
       "       [ 0.        ,  0.        ,  0.        ,  0.        ,  0.        ,\n",
       "        51.10399278,  0.        ],\n",
       "       [ 0.        ,  0.        ,  0.        ,  0.        ,  0.        ,\n",
       "         0.        , 48.64458418]])"
      ]
     },
     "execution_count": 13,
     "metadata": {},
     "output_type": "execute_result"
    }
   ],
   "source": [
    "cov = np.diag(var)\n",
    "cov"
   ]
  },
  {
   "cell_type": "code",
   "execution_count": 14,
   "metadata": {},
   "outputs": [
    {
     "data": {
      "text/plain": [
       "(7, 1000)"
      ]
     },
     "execution_count": 14,
     "metadata": {},
     "output_type": "execute_result"
    }
   ],
   "source": [
    "from numpy import random\n",
    "x = random.multivariate_normal(mean, cov, 1000).T\n",
    "xs = random.multivariate_normal(mean, cov, 1000).T\n",
    "x.shape"
   ]
  },
  {
   "cell_type": "code",
   "execution_count": 15,
   "metadata": {},
   "outputs": [
    {
     "name": "stdout",
     "output_type": "stream",
     "text": [
      "-766.4057777601772\n",
      "-776.8513373678909\n"
     ]
    }
   ],
   "source": [
    "print(x[0][0])\n",
    "print(xs[1][0])"
   ]
  },
  {
   "cell_type": "code",
   "execution_count": 16,
   "metadata": {},
   "outputs": [
    {
     "data": {
      "text/plain": [
       "matrix([[ 0, -1, -1,  1],\n",
       "        [ 0,  1,  1,  0],\n",
       "        [-1, -1, -1,  1],\n",
       "        [ 1,  0,  0,  0],\n",
       "        [ 0,  1,  0,  0],\n",
       "        [ 0,  0,  1,  0],\n",
       "        [ 0,  0,  0,  1]])"
      ]
     },
     "execution_count": 16,
     "metadata": {},
     "output_type": "execute_result"
    }
   ],
   "source": [
    "S = np.matrix(np.array([[0,-1,-1,1],[0,1,1,0],[-1,-1,-1,1],[1,0,0,0],\n",
    "                        [0,1,0,0],[0,0,1,0],[0,0,0,1]]))\n",
    "S"
   ]
  },
  {
   "cell_type": "code",
   "execution_count": 17,
   "metadata": {},
   "outputs": [],
   "source": [
    "new_index = [1,2,3,4,5,6,0]"
   ]
  },
  {
   "cell_type": "code",
   "execution_count": 18,
   "metadata": {},
   "outputs": [
    {
     "name": "stdout",
     "output_type": "stream",
     "text": [
      "-766.4057777601772\n"
     ]
    }
   ],
   "source": [
    "x1 = np.take(x, new_index, axis=0)\n",
    "x2 = np.take(xs, new_index, axis=0)\n",
    "y = np.take(y, new_index, axis=0)\n",
    "print(x1[6][0])"
   ]
  },
  {
   "cell_type": "code",
   "execution_count": 19,
   "metadata": {},
   "outputs": [],
   "source": [
    "\"\"\" SUPPRESS ALL OUTPUT \"\"\"\n",
    "OutputFlag=0\n",
    "env = gp.Env(empty=True)\n",
    "env.setParam(\"OutputFlag\",OutputFlag)\n",
    "env.start()\n",
    "\n",
    "\"\"\" GLASSO MODEL \"\"\"\n",
    "model = gp.Model('GLASSO', env=env) # the optimization model"
   ]
  },
  {
   "cell_type": "code",
   "execution_count": 20,
   "metadata": {},
   "outputs": [],
   "source": [
    "from gurobipyv1 import GRB, quicksum\n",
    "p = 3  # 行数\n",
    "q = 7  # 列数\n",
    "\n",
    "G = []\n",
    "\n",
    "for i in range(p):\n",
    "    row = []\n",
    "    for j in range(q):\n",
    "        # 创建一个新的变量，vtype 设置为连续型，上界为1，下界为-1\n",
    "        var = model.addVar(ub=1, lb=-1, vtype=GRB.CONTINUOUS, name=f\"G_({i}, {j})\")\n",
    "        row.append(var)\n",
    "    G.append(row)\n",
    "G1 = np.matrix(G)"
   ]
  },
  {
   "cell_type": "code",
   "execution_count": 21,
   "metadata": {},
   "outputs": [
    {
     "data": {
      "text/plain": [
       "matrix([[<gurobi.Var *Awaiting Model Update*>,\n",
       "         <gurobi.Var *Awaiting Model Update*>,\n",
       "         <gurobi.Var *Awaiting Model Update*>,\n",
       "         <gurobi.Var *Awaiting Model Update*>,\n",
       "         <gurobi.Var *Awaiting Model Update*>,\n",
       "         <gurobi.Var *Awaiting Model Update*>,\n",
       "         <gurobi.Var *Awaiting Model Update*>],\n",
       "        [<gurobi.Var *Awaiting Model Update*>,\n",
       "         <gurobi.Var *Awaiting Model Update*>,\n",
       "         <gurobi.Var *Awaiting Model Update*>,\n",
       "         <gurobi.Var *Awaiting Model Update*>,\n",
       "         <gurobi.Var *Awaiting Model Update*>,\n",
       "         <gurobi.Var *Awaiting Model Update*>,\n",
       "         <gurobi.Var *Awaiting Model Update*>],\n",
       "        [<gurobi.Var *Awaiting Model Update*>,\n",
       "         <gurobi.Var *Awaiting Model Update*>,\n",
       "         <gurobi.Var *Awaiting Model Update*>,\n",
       "         <gurobi.Var *Awaiting Model Update*>,\n",
       "         <gurobi.Var *Awaiting Model Update*>,\n",
       "         <gurobi.Var *Awaiting Model Update*>,\n",
       "         <gurobi.Var *Awaiting Model Update*>],\n",
       "        [0, 0, 0, 0, 0, 0, 1]], dtype=object)"
      ]
     },
     "execution_count": 21,
     "metadata": {},
     "output_type": "execute_result"
    }
   ],
   "source": [
    "G1.shape\n",
    "G1 = np.append(G1,[[0,0,0,0,0,0,1]],axis=0)\n",
    "G1"
   ]
  },
  {
   "cell_type": "code",
   "execution_count": 22,
   "metadata": {},
   "outputs": [
    {
     "data": {
      "text/plain": [
       "949455.3725354916"
      ]
     },
     "execution_count": 22,
     "metadata": {},
     "output_type": "execute_result"
    }
   ],
   "source": [
    "m1 = np.linalg.norm(x1-x2)**2\n",
    "np.sum(np.square(x1-x2))"
   ]
  },
  {
   "cell_type": "code",
   "execution_count": 23,
   "metadata": {},
   "outputs": [
    {
     "data": {
      "text/plain": [
       "(7, 1000)"
      ]
     },
     "execution_count": 23,
     "metadata": {},
     "output_type": "execute_result"
    }
   ],
   "source": [
    "y.shape"
   ]
  },
  {
   "cell_type": "code",
   "execution_count": 24,
   "metadata": {},
   "outputs": [],
   "source": [
    "def squa(y):\n",
    "    s=0\n",
    "    for i in range(y.shape[0]):\n",
    "        for j in range(y.shape[1]):\n",
    "            s+=y[i,j]*y[i,j]\n",
    "    return s"
   ]
  },
  {
   "cell_type": "code",
   "execution_count": 25,
   "metadata": {},
   "outputs": [],
   "source": [
    "part1 = squa(0.5 * (S @ G1 @ x1 - S @ G1 @ x2))\n",
    "part2 = squa((y - S @ G1 @ x1))\n",
    "\n",
    "model.setObjective((part1 + part2)/1000, GRB.MINIMIZE)"
   ]
  },
  {
   "cell_type": "code",
   "execution_count": 26,
   "metadata": {},
   "outputs": [],
   "source": [
    "model.optimize()"
   ]
  },
  {
   "cell_type": "code",
   "execution_count": 27,
   "metadata": {},
   "outputs": [
    {
     "data": {
      "text/plain": [
       "203.6230945446723"
      ]
     },
     "execution_count": 27,
     "metadata": {},
     "output_type": "execute_result"
    }
   ],
   "source": [
    "model.objVal"
   ]
  },
  {
   "cell_type": "code",
   "execution_count": 28,
   "metadata": {},
   "outputs": [
    {
     "name": "stdout",
     "output_type": "stream",
     "text": [
      "21\n",
      "<gurobi.Var G_(0, 0) (value -0.03377553604443484)>\n",
      "<gurobi.Var G_(0, 1) (value 0.002460735021447835)>\n",
      "<gurobi.Var G_(0, 2) (value -0.03438089750515405)>\n",
      "<gurobi.Var G_(0, 3) (value -0.003522116487747029)>\n",
      "<gurobi.Var G_(0, 4) (value 0.000901250971862444)>\n",
      "<gurobi.Var G_(0, 5) (value -0.00792592814024684)>\n",
      "<gurobi.Var G_(0, 6) (value 0.13254427969909854)>\n",
      "<gurobi.Var G_(1, 0) (value -0.044713608443609276)>\n",
      "<gurobi.Var G_(1, 1) (value 0.003257634233597706)>\n",
      "<gurobi.Var G_(1, 2) (value -0.04551501430415883)>\n",
      "<gurobi.Var G_(1, 3) (value -0.004662739881785671)>\n",
      "<gurobi.Var G_(1, 4) (value 0.0011931174953796475)>\n",
      "<gurobi.Var G_(1, 5) (value -0.01049270841456651)>\n",
      "<gurobi.Var G_(1, 6) (value 0.09450671212167316)>\n",
      "<gurobi.Var G_(2, 0) (value -0.04801337184241994)>\n",
      "<gurobi.Var G_(2, 1) (value 0.003498040281034509)>\n",
      "<gurobi.Var G_(2, 2) (value -0.04887391886006698)>\n",
      "<gurobi.Var G_(2, 3) (value -0.005006839496685345)>\n",
      "<gurobi.Var G_(2, 4) (value 0.0012811668818315525)>\n",
      "<gurobi.Var G_(2, 5) (value -0.011267046432383188)>\n",
      "<gurobi.Var G_(2, 6) (value 0.08303166144588658)>\n"
     ]
    }
   ],
   "source": [
    "variables = model.getVars()\n",
    "print(len(variables))\n",
    "\n",
    "for var in variables:\n",
    "    print(var)"
   ]
  },
  {
   "cell_type": "code",
   "execution_count": null,
   "metadata": {},
   "outputs": [],
   "source": []
  }
 ],
 "metadata": {
  "kernelspec": {
   "display_name": "base",
   "language": "python",
   "name": "python3"
  },
  "language_info": {
   "codemirror_mode": {
    "name": "ipython",
    "version": 3
   },
   "file_extension": ".py",
   "mimetype": "text/x-python",
   "name": "python",
   "nbconvert_exporter": "python",
   "pygments_lexer": "ipython3",
   "version": "3.9.7"
  }
 },
 "nbformat": 4,
 "nbformat_minor": 2
}
