{
 "cells": [
  {
   "cell_type": "code",
   "execution_count": 1,
   "metadata": {},
   "outputs": [],
   "source": [
    "import pandas as pd\n",
    "import matplotlib.pyplot as plt"
   ]
  },
  {
   "cell_type": "code",
   "execution_count": 3,
   "metadata": {},
   "outputs": [
    {
     "data": {
      "text/plain": [
       "'d:\\\\HierarchicalCode\\\\experiment\\\\EDA'"
      ]
     },
     "execution_count": 3,
     "metadata": {},
     "output_type": "execute_result"
    }
   ],
   "source": [
    "pwd"
   ]
  },
  {
   "cell_type": "code",
   "execution_count": 20,
   "metadata": {},
   "outputs": [
    {
     "data": {
      "text/plain": [
       "(228, 306)"
      ]
     },
     "execution_count": 20,
     "metadata": {},
     "output_type": "execute_result"
    }
   ],
   "source": [
    "data = pd.read_csv('../Data/Tourism/Tourism.csv')\n",
    "data.shape"
   ]
  },
  {
   "cell_type": "code",
   "execution_count": 5,
   "metadata": {},
   "outputs": [
    {
     "name": "stdout",
     "output_type": "stream",
     "text": [
      "Index(['Year', 'Month', 'AAAHol', 'AAAVis', 'AAABus', 'AAAOth', 'AABHol',\n",
      "       'AABVis', 'AABBus', 'AABOth',\n",
      "       ...\n",
      "       'GBBBus', 'GBBOth', 'GBCHol', 'GBCVis', 'GBCBus', 'GBCOth', 'GBDHol',\n",
      "       'GBDVis', 'GBDBus', 'GBDOth'],\n",
      "      dtype='object', length=306)\n"
     ]
    }
   ],
   "source": [
    "print(data.columns)"
   ]
  },
  {
   "cell_type": "code",
   "execution_count": 6,
   "metadata": {},
   "outputs": [
    {
     "data": {
      "text/plain": [
       "304"
      ]
     },
     "execution_count": 6,
     "metadata": {},
     "output_type": "execute_result"
    }
   ],
   "source": [
    "level_1,level_2,level_3 = [],[],[]\n",
    "tags = [i for i in data.columns[2:]]\n",
    "len(tags)"
   ]
  },
  {
   "cell_type": "code",
   "execution_count": 7,
   "metadata": {},
   "outputs": [],
   "source": [
    "for i in tags:\n",
    "    level_1.append(i[0])\n",
    "    level_2.append(i[0:2])\n",
    "    level_3.append(i[0:3])\n",
    "level_1 = list(set(list(level_1)))\n",
    "level_2 = list(set(list(level_2)))\n",
    "level_3 = list(set(list(level_3)))\n",
    "level_1.sort()\n",
    "level_2.sort()\n",
    "level_3.sort()"
   ]
  },
  {
   "cell_type": "code",
   "execution_count": 10,
   "metadata": {},
   "outputs": [
    {
     "data": {
      "text/plain": [
       "76"
      ]
     },
     "execution_count": 10,
     "metadata": {},
     "output_type": "execute_result"
    }
   ],
   "source": [
    "len(level_3)"
   ]
  },
  {
   "cell_type": "code",
   "execution_count": 21,
   "metadata": {},
   "outputs": [
    {
     "data": {
      "text/html": [
       "<div>\n",
       "<style scoped>\n",
       "    .dataframe tbody tr th:only-of-type {\n",
       "        vertical-align: middle;\n",
       "    }\n",
       "\n",
       "    .dataframe tbody tr th {\n",
       "        vertical-align: top;\n",
       "    }\n",
       "\n",
       "    .dataframe thead th {\n",
       "        text-align: right;\n",
       "    }\n",
       "</style>\n",
       "<table border=\"1\" class=\"dataframe\">\n",
       "  <thead>\n",
       "    <tr style=\"text-align: right;\">\n",
       "      <th></th>\n",
       "      <th>Year</th>\n",
       "      <th>Month</th>\n",
       "      <th>AAAHol</th>\n",
       "      <th>AAAVis</th>\n",
       "      <th>AAABus</th>\n",
       "      <th>AAAOth</th>\n",
       "      <th>AABHol</th>\n",
       "      <th>AABVis</th>\n",
       "      <th>AABBus</th>\n",
       "      <th>AABOth</th>\n",
       "      <th>...</th>\n",
       "      <th>GBBBus</th>\n",
       "      <th>GBBOth</th>\n",
       "      <th>GBCHol</th>\n",
       "      <th>GBCVis</th>\n",
       "      <th>GBCBus</th>\n",
       "      <th>GBCOth</th>\n",
       "      <th>GBDHol</th>\n",
       "      <th>GBDVis</th>\n",
       "      <th>GBDBus</th>\n",
       "      <th>GBDOth</th>\n",
       "    </tr>\n",
       "  </thead>\n",
       "  <tbody>\n",
       "    <tr>\n",
       "      <th>0</th>\n",
       "      <td>1998.0</td>\n",
       "      <td>January</td>\n",
       "      <td>2015.444457</td>\n",
       "      <td>1379.273926</td>\n",
       "      <td>230.099578</td>\n",
       "      <td>118.238146</td>\n",
       "      <td>936.208816</td>\n",
       "      <td>297.944688</td>\n",
       "      <td>0.000000</td>\n",
       "      <td>0.000000</td>\n",
       "      <td>...</td>\n",
       "      <td>0.000000</td>\n",
       "      <td>0.0</td>\n",
       "      <td>7.536223</td>\n",
       "      <td>0.000000</td>\n",
       "      <td>1.628948</td>\n",
       "      <td>0.000000</td>\n",
       "      <td>0.811856</td>\n",
       "      <td>0.000000</td>\n",
       "      <td>9.478051</td>\n",
       "      <td>0.0</td>\n",
       "    </tr>\n",
       "    <tr>\n",
       "      <th>1</th>\n",
       "      <td>NaN</td>\n",
       "      <td>February</td>\n",
       "      <td>514.337600</td>\n",
       "      <td>645.980857</td>\n",
       "      <td>450.509894</td>\n",
       "      <td>80.836085</td>\n",
       "      <td>139.829461</td>\n",
       "      <td>96.072530</td>\n",
       "      <td>3.800647</td>\n",
       "      <td>5.862538</td>\n",
       "      <td>...</td>\n",
       "      <td>1.045797</td>\n",
       "      <td>0.0</td>\n",
       "      <td>0.000000</td>\n",
       "      <td>0.000000</td>\n",
       "      <td>5.296459</td>\n",
       "      <td>0.000000</td>\n",
       "      <td>0.522899</td>\n",
       "      <td>0.000000</td>\n",
       "      <td>0.000000</td>\n",
       "      <td>0.0</td>\n",
       "    </tr>\n",
       "    <tr>\n",
       "      <th>2</th>\n",
       "      <td>NaN</td>\n",
       "      <td>March</td>\n",
       "      <td>532.097470</td>\n",
       "      <td>683.284592</td>\n",
       "      <td>520.458259</td>\n",
       "      <td>138.306554</td>\n",
       "      <td>117.980175</td>\n",
       "      <td>97.113121</td>\n",
       "      <td>28.431680</td>\n",
       "      <td>0.000000</td>\n",
       "      <td>...</td>\n",
       "      <td>0.000000</td>\n",
       "      <td>0.0</td>\n",
       "      <td>2.945006</td>\n",
       "      <td>1.425324</td>\n",
       "      <td>9.924744</td>\n",
       "      <td>3.100121</td>\n",
       "      <td>0.000000</td>\n",
       "      <td>0.000000</td>\n",
       "      <td>0.000000</td>\n",
       "      <td>0.0</td>\n",
       "    </tr>\n",
       "    <tr>\n",
       "      <th>3</th>\n",
       "      <td>NaN</td>\n",
       "      <td>April</td>\n",
       "      <td>534.059083</td>\n",
       "      <td>819.807646</td>\n",
       "      <td>755.506898</td>\n",
       "      <td>97.089844</td>\n",
       "      <td>202.266724</td>\n",
       "      <td>196.414355</td>\n",
       "      <td>10.812915</td>\n",
       "      <td>0.000000</td>\n",
       "      <td>...</td>\n",
       "      <td>11.461824</td>\n",
       "      <td>0.0</td>\n",
       "      <td>26.419176</td>\n",
       "      <td>13.690603</td>\n",
       "      <td>2.312088</td>\n",
       "      <td>0.000000</td>\n",
       "      <td>0.000000</td>\n",
       "      <td>10.958005</td>\n",
       "      <td>2.312088</td>\n",
       "      <td>0.0</td>\n",
       "    </tr>\n",
       "    <tr>\n",
       "      <th>4</th>\n",
       "      <td>NaN</td>\n",
       "      <td>May</td>\n",
       "      <td>505.222272</td>\n",
       "      <td>693.531752</td>\n",
       "      <td>880.152314</td>\n",
       "      <td>82.210784</td>\n",
       "      <td>121.775526</td>\n",
       "      <td>73.542768</td>\n",
       "      <td>12.185418</td>\n",
       "      <td>24.524678</td>\n",
       "      <td>...</td>\n",
       "      <td>0.000000</td>\n",
       "      <td>0.0</td>\n",
       "      <td>23.789282</td>\n",
       "      <td>67.846207</td>\n",
       "      <td>1.282767</td>\n",
       "      <td>0.000000</td>\n",
       "      <td>0.000000</td>\n",
       "      <td>0.000000</td>\n",
       "      <td>0.000000</td>\n",
       "      <td>0.0</td>\n",
       "    </tr>\n",
       "  </tbody>\n",
       "</table>\n",
       "<p>5 rows × 306 columns</p>\n",
       "</div>"
      ],
      "text/plain": [
       "     Year     Month       AAAHol       AAAVis      AAABus      AAAOth  \\\n",
       "0  1998.0   January  2015.444457  1379.273926  230.099578  118.238146   \n",
       "1     NaN  February   514.337600   645.980857  450.509894   80.836085   \n",
       "2     NaN     March   532.097470   683.284592  520.458259  138.306554   \n",
       "3     NaN     April   534.059083   819.807646  755.506898   97.089844   \n",
       "4     NaN       May   505.222272   693.531752  880.152314   82.210784   \n",
       "\n",
       "       AABHol      AABVis     AABBus     AABOth  ...     GBBBus  GBBOth  \\\n",
       "0  936.208816  297.944688   0.000000   0.000000  ...   0.000000     0.0   \n",
       "1  139.829461   96.072530   3.800647   5.862538  ...   1.045797     0.0   \n",
       "2  117.980175   97.113121  28.431680   0.000000  ...   0.000000     0.0   \n",
       "3  202.266724  196.414355  10.812915   0.000000  ...  11.461824     0.0   \n",
       "4  121.775526   73.542768  12.185418  24.524678  ...   0.000000     0.0   \n",
       "\n",
       "      GBCHol     GBCVis    GBCBus    GBCOth    GBDHol     GBDVis    GBDBus  \\\n",
       "0   7.536223   0.000000  1.628948  0.000000  0.811856   0.000000  9.478051   \n",
       "1   0.000000   0.000000  5.296459  0.000000  0.522899   0.000000  0.000000   \n",
       "2   2.945006   1.425324  9.924744  3.100121  0.000000   0.000000  0.000000   \n",
       "3  26.419176  13.690603  2.312088  0.000000  0.000000  10.958005  2.312088   \n",
       "4  23.789282  67.846207  1.282767  0.000000  0.000000   0.000000  0.000000   \n",
       "\n",
       "   GBDOth  \n",
       "0     0.0  \n",
       "1     0.0  \n",
       "2     0.0  \n",
       "3     0.0  \n",
       "4     0.0  \n",
       "\n",
       "[5 rows x 306 columns]"
      ]
     },
     "execution_count": 21,
     "metadata": {},
     "output_type": "execute_result"
    }
   ],
   "source": [
    "data.head()"
   ]
  },
  {
   "cell_type": "code",
   "execution_count": 22,
   "metadata": {},
   "outputs": [],
   "source": [
    "data.iloc[:,2:] = data.iloc[:,2:].applymap(lambda x: round(x, 7))"
   ]
  },
  {
   "cell_type": "code",
   "execution_count": 30,
   "metadata": {},
   "outputs": [
    {
     "data": {
      "text/plain": [
       "645.9808573"
      ]
     },
     "execution_count": 30,
     "metadata": {},
     "output_type": "execute_result"
    }
   ],
   "source": [
    "data.iloc[1,3]"
   ]
  },
  {
   "cell_type": "code",
   "execution_count": 26,
   "metadata": {},
   "outputs": [
    {
     "data": {
      "text/html": [
       "<div>\n",
       "<style scoped>\n",
       "    .dataframe tbody tr th:only-of-type {\n",
       "        vertical-align: middle;\n",
       "    }\n",
       "\n",
       "    .dataframe tbody tr th {\n",
       "        vertical-align: top;\n",
       "    }\n",
       "\n",
       "    .dataframe thead th {\n",
       "        text-align: right;\n",
       "    }\n",
       "</style>\n",
       "<table border=\"1\" class=\"dataframe\">\n",
       "  <thead>\n",
       "    <tr style=\"text-align: right;\">\n",
       "      <th></th>\n",
       "      <th>Year</th>\n",
       "      <th>Month</th>\n",
       "    </tr>\n",
       "  </thead>\n",
       "  <tbody>\n",
       "    <tr>\n",
       "      <th>0</th>\n",
       "      <td>1998.0</td>\n",
       "      <td>January</td>\n",
       "    </tr>\n",
       "    <tr>\n",
       "      <th>1</th>\n",
       "      <td>NaN</td>\n",
       "      <td>February</td>\n",
       "    </tr>\n",
       "    <tr>\n",
       "      <th>2</th>\n",
       "      <td>NaN</td>\n",
       "      <td>March</td>\n",
       "    </tr>\n",
       "    <tr>\n",
       "      <th>3</th>\n",
       "      <td>NaN</td>\n",
       "      <td>April</td>\n",
       "    </tr>\n",
       "    <tr>\n",
       "      <th>4</th>\n",
       "      <td>NaN</td>\n",
       "      <td>May</td>\n",
       "    </tr>\n",
       "  </tbody>\n",
       "</table>\n",
       "</div>"
      ],
      "text/plain": [
       "     Year     Month\n",
       "0  1998.0   January\n",
       "1     NaN  February\n",
       "2     NaN     March\n",
       "3     NaN     April\n",
       "4     NaN       May"
      ]
     },
     "execution_count": 26,
     "metadata": {},
     "output_type": "execute_result"
    }
   ],
   "source": [
    "new_data = data.iloc[:,0:2]\n",
    "new_data.head()"
   ]
  },
  {
   "cell_type": "code",
   "execution_count": 27,
   "metadata": {},
   "outputs": [
    {
     "data": {
      "text/html": [
       "<div>\n",
       "<style scoped>\n",
       "    .dataframe tbody tr th:only-of-type {\n",
       "        vertical-align: middle;\n",
       "    }\n",
       "\n",
       "    .dataframe tbody tr th {\n",
       "        vertical-align: top;\n",
       "    }\n",
       "\n",
       "    .dataframe thead th {\n",
       "        text-align: right;\n",
       "    }\n",
       "</style>\n",
       "<table border=\"1\" class=\"dataframe\">\n",
       "  <thead>\n",
       "    <tr style=\"text-align: right;\">\n",
       "      <th></th>\n",
       "      <th>Year</th>\n",
       "      <th>Month</th>\n",
       "    </tr>\n",
       "  </thead>\n",
       "  <tbody>\n",
       "    <tr>\n",
       "      <th>0</th>\n",
       "      <td>1998.0</td>\n",
       "      <td>1</td>\n",
       "    </tr>\n",
       "    <tr>\n",
       "      <th>1</th>\n",
       "      <td>1998.0</td>\n",
       "      <td>2</td>\n",
       "    </tr>\n",
       "    <tr>\n",
       "      <th>2</th>\n",
       "      <td>1998.0</td>\n",
       "      <td>3</td>\n",
       "    </tr>\n",
       "    <tr>\n",
       "      <th>3</th>\n",
       "      <td>1998.0</td>\n",
       "      <td>4</td>\n",
       "    </tr>\n",
       "    <tr>\n",
       "      <th>4</th>\n",
       "      <td>1998.0</td>\n",
       "      <td>5</td>\n",
       "    </tr>\n",
       "  </tbody>\n",
       "</table>\n",
       "</div>"
      ],
      "text/plain": [
       "     Year  Month\n",
       "0  1998.0      1\n",
       "1  1998.0      2\n",
       "2  1998.0      3\n",
       "3  1998.0      4\n",
       "4  1998.0      5"
      ]
     },
     "execution_count": 27,
     "metadata": {},
     "output_type": "execute_result"
    }
   ],
   "source": [
    "new_data['Year'] = new_data['Year'].fillna(method='ffill')\n",
    "new_data['Month'] = pd.to_datetime(new_data['Month'],format='%B').dt.month\n",
    "new_data.head()"
   ]
  },
  {
   "cell_type": "code",
   "execution_count": 31,
   "metadata": {},
   "outputs": [
    {
     "data": {
      "text/html": [
       "<div>\n",
       "<style scoped>\n",
       "    .dataframe tbody tr th:only-of-type {\n",
       "        vertical-align: middle;\n",
       "    }\n",
       "\n",
       "    .dataframe tbody tr th {\n",
       "        vertical-align: top;\n",
       "    }\n",
       "\n",
       "    .dataframe thead th {\n",
       "        text-align: right;\n",
       "    }\n",
       "</style>\n",
       "<table border=\"1\" class=\"dataframe\">\n",
       "  <thead>\n",
       "    <tr style=\"text-align: right;\">\n",
       "      <th></th>\n",
       "      <th>Year</th>\n",
       "      <th>Month</th>\n",
       "      <th>T</th>\n",
       "    </tr>\n",
       "  </thead>\n",
       "  <tbody>\n",
       "    <tr>\n",
       "      <th>0</th>\n",
       "      <td>1998.0</td>\n",
       "      <td>1</td>\n",
       "      <td>45151.071280</td>\n",
       "    </tr>\n",
       "    <tr>\n",
       "      <th>1</th>\n",
       "      <td>1998.0</td>\n",
       "      <td>2</td>\n",
       "      <td>17294.699551</td>\n",
       "    </tr>\n",
       "    <tr>\n",
       "      <th>2</th>\n",
       "      <td>1998.0</td>\n",
       "      <td>3</td>\n",
       "      <td>20725.114184</td>\n",
       "    </tr>\n",
       "    <tr>\n",
       "      <th>3</th>\n",
       "      <td>1998.0</td>\n",
       "      <td>4</td>\n",
       "      <td>25388.612353</td>\n",
       "    </tr>\n",
       "    <tr>\n",
       "      <th>4</th>\n",
       "      <td>1998.0</td>\n",
       "      <td>5</td>\n",
       "      <td>20330.035211</td>\n",
       "    </tr>\n",
       "  </tbody>\n",
       "</table>\n",
       "</div>"
      ],
      "text/plain": [
       "     Year  Month             T\n",
       "0  1998.0      1  45151.071280\n",
       "1  1998.0      2  17294.699551\n",
       "2  1998.0      3  20725.114184\n",
       "3  1998.0      4  25388.612353\n",
       "4  1998.0      5  20330.035211"
      ]
     },
     "execution_count": 31,
     "metadata": {},
     "output_type": "execute_result"
    }
   ],
   "source": [
    "new_data['T'] = data.iloc[:,2:].sum(axis=1).round(7)\n",
    "new_data.head()"
   ]
  },
  {
   "cell_type": "code",
   "execution_count": 32,
   "metadata": {},
   "outputs": [
    {
     "data": {
      "text/plain": [
       "45151.0712801"
      ]
     },
     "execution_count": 32,
     "metadata": {},
     "output_type": "execute_result"
    }
   ],
   "source": [
    "new_data.iloc[0,2]"
   ]
  },
  {
   "cell_type": "code",
   "execution_count": 33,
   "metadata": {},
   "outputs": [
    {
     "data": {
      "text/html": [
       "<div>\n",
       "<style scoped>\n",
       "    .dataframe tbody tr th:only-of-type {\n",
       "        vertical-align: middle;\n",
       "    }\n",
       "\n",
       "    .dataframe tbody tr th {\n",
       "        vertical-align: top;\n",
       "    }\n",
       "\n",
       "    .dataframe thead th {\n",
       "        text-align: right;\n",
       "    }\n",
       "</style>\n",
       "<table border=\"1\" class=\"dataframe\">\n",
       "  <thead>\n",
       "    <tr style=\"text-align: right;\">\n",
       "      <th></th>\n",
       "      <th>Year</th>\n",
       "      <th>Month</th>\n",
       "      <th>T</th>\n",
       "      <th>A</th>\n",
       "      <th>B</th>\n",
       "      <th>C</th>\n",
       "      <th>D</th>\n",
       "      <th>E</th>\n",
       "      <th>F</th>\n",
       "      <th>G</th>\n",
       "    </tr>\n",
       "  </thead>\n",
       "  <tbody>\n",
       "    <tr>\n",
       "      <th>0</th>\n",
       "      <td>1998.0</td>\n",
       "      <td>1</td>\n",
       "      <td>45151.071280</td>\n",
       "      <td>17515.502380</td>\n",
       "      <td>10393.618016</td>\n",
       "      <td>8633.359047</td>\n",
       "      <td>3504.313346</td>\n",
       "      <td>3121.619189</td>\n",
       "      <td>1850.735774</td>\n",
       "      <td>131.923529</td>\n",
       "    </tr>\n",
       "    <tr>\n",
       "      <th>1</th>\n",
       "      <td>1998.0</td>\n",
       "      <td>2</td>\n",
       "      <td>17294.699551</td>\n",
       "      <td>5880.367918</td>\n",
       "      <td>3855.647839</td>\n",
       "      <td>3580.051065</td>\n",
       "      <td>1321.257992</td>\n",
       "      <td>1826.610676</td>\n",
       "      <td>757.079744</td>\n",
       "      <td>73.684316</td>\n",
       "    </tr>\n",
       "    <tr>\n",
       "      <th>2</th>\n",
       "      <td>1998.0</td>\n",
       "      <td>3</td>\n",
       "      <td>20725.114184</td>\n",
       "      <td>7086.444392</td>\n",
       "      <td>4353.379282</td>\n",
       "      <td>4717.676663</td>\n",
       "      <td>1521.950007</td>\n",
       "      <td>1868.381530</td>\n",
       "      <td>900.796622</td>\n",
       "      <td>276.485688</td>\n",
       "    </tr>\n",
       "    <tr>\n",
       "      <th>3</th>\n",
       "      <td>1998.0</td>\n",
       "      <td>4</td>\n",
       "      <td>25388.612353</td>\n",
       "      <td>10530.639348</td>\n",
       "      <td>5115.865531</td>\n",
       "      <td>4924.575204</td>\n",
       "      <td>1813.439177</td>\n",
       "      <td>1952.612466</td>\n",
       "      <td>801.444140</td>\n",
       "      <td>250.036488</td>\n",
       "    </tr>\n",
       "    <tr>\n",
       "      <th>4</th>\n",
       "      <td>1998.0</td>\n",
       "      <td>5</td>\n",
       "      <td>20330.035211</td>\n",
       "      <td>7430.373559</td>\n",
       "      <td>3820.666426</td>\n",
       "      <td>4219.283647</td>\n",
       "      <td>1375.082095</td>\n",
       "      <td>2616.965317</td>\n",
       "      <td>551.377058</td>\n",
       "      <td>316.287109</td>\n",
       "    </tr>\n",
       "  </tbody>\n",
       "</table>\n",
       "</div>"
      ],
      "text/plain": [
       "     Year  Month             T             A             B            C  \\\n",
       "0  1998.0      1  45151.071280  17515.502380  10393.618016  8633.359047   \n",
       "1  1998.0      2  17294.699551   5880.367918   3855.647839  3580.051065   \n",
       "2  1998.0      3  20725.114184   7086.444392   4353.379282  4717.676663   \n",
       "3  1998.0      4  25388.612353  10530.639348   5115.865531  4924.575204   \n",
       "4  1998.0      5  20330.035211   7430.373559   3820.666426  4219.283647   \n",
       "\n",
       "             D            E            F           G  \n",
       "0  3504.313346  3121.619189  1850.735774  131.923529  \n",
       "1  1321.257992  1826.610676   757.079744   73.684316  \n",
       "2  1521.950007  1868.381530   900.796622  276.485688  \n",
       "3  1813.439177  1952.612466   801.444140  250.036488  \n",
       "4  1375.082095  2616.965317   551.377058  316.287109  "
      ]
     },
     "execution_count": 33,
     "metadata": {},
     "output_type": "execute_result"
    }
   ],
   "source": [
    "for i in level_1:\n",
    "    columns_to_aggregate = [col for col in tags if col.startswith(i)]\n",
    "    new_data[i] = data[columns_to_aggregate].sum(axis=1).round(7)\n",
    "new_data.head()"
   ]
  },
  {
   "cell_type": "code",
   "execution_count": 34,
   "metadata": {},
   "outputs": [
    {
     "data": {
      "text/html": [
       "<div>\n",
       "<style scoped>\n",
       "    .dataframe tbody tr th:only-of-type {\n",
       "        vertical-align: middle;\n",
       "    }\n",
       "\n",
       "    .dataframe tbody tr th {\n",
       "        vertical-align: top;\n",
       "    }\n",
       "\n",
       "    .dataframe thead th {\n",
       "        text-align: right;\n",
       "    }\n",
       "</style>\n",
       "<table border=\"1\" class=\"dataframe\">\n",
       "  <thead>\n",
       "    <tr style=\"text-align: right;\">\n",
       "      <th></th>\n",
       "      <th>Year</th>\n",
       "      <th>Month</th>\n",
       "      <th>T</th>\n",
       "      <th>A</th>\n",
       "      <th>B</th>\n",
       "      <th>C</th>\n",
       "      <th>D</th>\n",
       "      <th>E</th>\n",
       "      <th>F</th>\n",
       "      <th>G</th>\n",
       "      <th>...</th>\n",
       "      <th>DC</th>\n",
       "      <th>DD</th>\n",
       "      <th>EA</th>\n",
       "      <th>EB</th>\n",
       "      <th>EC</th>\n",
       "      <th>FA</th>\n",
       "      <th>FB</th>\n",
       "      <th>FC</th>\n",
       "      <th>GA</th>\n",
       "      <th>GB</th>\n",
       "    </tr>\n",
       "  </thead>\n",
       "  <tbody>\n",
       "    <tr>\n",
       "      <th>0</th>\n",
       "      <td>1998.0</td>\n",
       "      <td>1</td>\n",
       "      <td>45151.071280</td>\n",
       "      <td>17515.502380</td>\n",
       "      <td>10393.618016</td>\n",
       "      <td>8633.359047</td>\n",
       "      <td>3504.313346</td>\n",
       "      <td>3121.619189</td>\n",
       "      <td>1850.735774</td>\n",
       "      <td>131.923529</td>\n",
       "      <td>...</td>\n",
       "      <td>580.701969</td>\n",
       "      <td>520.723508</td>\n",
       "      <td>2568.148767</td>\n",
       "      <td>263.570342</td>\n",
       "      <td>289.900081</td>\n",
       "      <td>847.973579</td>\n",
       "      <td>760.292613</td>\n",
       "      <td>242.469582</td>\n",
       "      <td>70.560554</td>\n",
       "      <td>61.362975</td>\n",
       "    </tr>\n",
       "    <tr>\n",
       "      <th>1</th>\n",
       "      <td>1998.0</td>\n",
       "      <td>2</td>\n",
       "      <td>17294.699551</td>\n",
       "      <td>5880.367918</td>\n",
       "      <td>3855.647839</td>\n",
       "      <td>3580.051065</td>\n",
       "      <td>1321.257992</td>\n",
       "      <td>1826.610676</td>\n",
       "      <td>757.079744</td>\n",
       "      <td>73.684316</td>\n",
       "      <td>...</td>\n",
       "      <td>173.478450</td>\n",
       "      <td>277.077004</td>\n",
       "      <td>1315.218525</td>\n",
       "      <td>360.128887</td>\n",
       "      <td>151.263265</td>\n",
       "      <td>227.802704</td>\n",
       "      <td>407.371145</td>\n",
       "      <td>121.905895</td>\n",
       "      <td>61.959070</td>\n",
       "      <td>11.725246</td>\n",
       "    </tr>\n",
       "    <tr>\n",
       "      <th>2</th>\n",
       "      <td>1998.0</td>\n",
       "      <td>3</td>\n",
       "      <td>20725.114184</td>\n",
       "      <td>7086.444392</td>\n",
       "      <td>4353.379282</td>\n",
       "      <td>4717.676663</td>\n",
       "      <td>1521.950007</td>\n",
       "      <td>1868.381530</td>\n",
       "      <td>900.796622</td>\n",
       "      <td>276.485688</td>\n",
       "      <td>...</td>\n",
       "      <td>129.828048</td>\n",
       "      <td>214.034065</td>\n",
       "      <td>1545.311658</td>\n",
       "      <td>87.303887</td>\n",
       "      <td>235.765986</td>\n",
       "      <td>518.533429</td>\n",
       "      <td>239.226790</td>\n",
       "      <td>143.036403</td>\n",
       "      <td>254.227684</td>\n",
       "      <td>22.258005</td>\n",
       "    </tr>\n",
       "    <tr>\n",
       "      <th>3</th>\n",
       "      <td>1998.0</td>\n",
       "      <td>4</td>\n",
       "      <td>25388.612353</td>\n",
       "      <td>10530.639348</td>\n",
       "      <td>5115.865531</td>\n",
       "      <td>4924.575204</td>\n",
       "      <td>1813.439177</td>\n",
       "      <td>1952.612466</td>\n",
       "      <td>801.444140</td>\n",
       "      <td>250.036488</td>\n",
       "      <td>...</td>\n",
       "      <td>319.474072</td>\n",
       "      <td>322.889950</td>\n",
       "      <td>1556.823571</td>\n",
       "      <td>114.391442</td>\n",
       "      <td>281.397452</td>\n",
       "      <td>383.311108</td>\n",
       "      <td>255.855684</td>\n",
       "      <td>162.277348</td>\n",
       "      <td>179.062095</td>\n",
       "      <td>70.974393</td>\n",
       "    </tr>\n",
       "    <tr>\n",
       "      <th>4</th>\n",
       "      <td>1998.0</td>\n",
       "      <td>5</td>\n",
       "      <td>20330.035211</td>\n",
       "      <td>7430.373559</td>\n",
       "      <td>3820.666426</td>\n",
       "      <td>4219.283647</td>\n",
       "      <td>1375.082095</td>\n",
       "      <td>2616.965317</td>\n",
       "      <td>551.377058</td>\n",
       "      <td>316.287109</td>\n",
       "      <td>...</td>\n",
       "      <td>229.025076</td>\n",
       "      <td>167.874616</td>\n",
       "      <td>1304.885311</td>\n",
       "      <td>1163.877027</td>\n",
       "      <td>148.202978</td>\n",
       "      <td>246.079204</td>\n",
       "      <td>229.181643</td>\n",
       "      <td>76.116212</td>\n",
       "      <td>200.862317</td>\n",
       "      <td>115.424792</td>\n",
       "    </tr>\n",
       "  </tbody>\n",
       "</table>\n",
       "<p>5 rows × 37 columns</p>\n",
       "</div>"
      ],
      "text/plain": [
       "     Year  Month             T             A             B            C  \\\n",
       "0  1998.0      1  45151.071280  17515.502380  10393.618016  8633.359047   \n",
       "1  1998.0      2  17294.699551   5880.367918   3855.647839  3580.051065   \n",
       "2  1998.0      3  20725.114184   7086.444392   4353.379282  4717.676663   \n",
       "3  1998.0      4  25388.612353  10530.639348   5115.865531  4924.575204   \n",
       "4  1998.0      5  20330.035211   7430.373559   3820.666426  4219.283647   \n",
       "\n",
       "             D            E            F           G  ...          DC  \\\n",
       "0  3504.313346  3121.619189  1850.735774  131.923529  ...  580.701969   \n",
       "1  1321.257992  1826.610676   757.079744   73.684316  ...  173.478450   \n",
       "2  1521.950007  1868.381530   900.796622  276.485688  ...  129.828048   \n",
       "3  1813.439177  1952.612466   801.444140  250.036488  ...  319.474072   \n",
       "4  1375.082095  2616.965317   551.377058  316.287109  ...  229.025076   \n",
       "\n",
       "           DD           EA           EB          EC          FA          FB  \\\n",
       "0  520.723508  2568.148767   263.570342  289.900081  847.973579  760.292613   \n",
       "1  277.077004  1315.218525   360.128887  151.263265  227.802704  407.371145   \n",
       "2  214.034065  1545.311658    87.303887  235.765986  518.533429  239.226790   \n",
       "3  322.889950  1556.823571   114.391442  281.397452  383.311108  255.855684   \n",
       "4  167.874616  1304.885311  1163.877027  148.202978  246.079204  229.181643   \n",
       "\n",
       "           FC          GA          GB  \n",
       "0  242.469582   70.560554   61.362975  \n",
       "1  121.905895   61.959070   11.725246  \n",
       "2  143.036403  254.227684   22.258005  \n",
       "3  162.277348  179.062095   70.974393  \n",
       "4   76.116212  200.862317  115.424792  \n",
       "\n",
       "[5 rows x 37 columns]"
      ]
     },
     "execution_count": 34,
     "metadata": {},
     "output_type": "execute_result"
    }
   ],
   "source": [
    "for i in level_2:\n",
    "    columns_to_aggregate = [col for col in tags if col.startswith(i)]\n",
    "    new_data[i] = data[columns_to_aggregate].sum(axis=1).round(7)\n",
    "new_data.head()"
   ]
  },
  {
   "cell_type": "code",
   "execution_count": 36,
   "metadata": {},
   "outputs": [
    {
     "data": {
      "text/plain": [
       "['AAA',\n",
       " 'AAB',\n",
       " 'ABA',\n",
       " 'ABB',\n",
       " 'ACA',\n",
       " 'ADA',\n",
       " 'ADB',\n",
       " 'ADC',\n",
       " 'ADD',\n",
       " 'AEA',\n",
       " 'AEB',\n",
       " 'AEC',\n",
       " 'AED',\n",
       " 'AFA',\n",
       " 'BAA',\n",
       " 'BAB',\n",
       " 'BAC',\n",
       " 'BBA',\n",
       " 'BCA',\n",
       " 'BCB',\n",
       " 'BCC',\n",
       " 'BDA',\n",
       " 'BDB',\n",
       " 'BDC',\n",
       " 'BDD',\n",
       " 'BDE',\n",
       " 'BDF',\n",
       " 'BEA',\n",
       " 'BEB',\n",
       " 'BEC',\n",
       " 'BED',\n",
       " 'BEE',\n",
       " 'BEF',\n",
       " 'BEG',\n",
       " 'BEH',\n",
       " 'CAA',\n",
       " 'CAB',\n",
       " 'CAC',\n",
       " 'CBA',\n",
       " 'CBB',\n",
       " 'CBC',\n",
       " 'CBD',\n",
       " 'CCA',\n",
       " 'CCB',\n",
       " 'CCC',\n",
       " 'CDA',\n",
       " 'CDB',\n",
       " 'DAA',\n",
       " 'DAB',\n",
       " 'DAC',\n",
       " 'DBA',\n",
       " 'DBB',\n",
       " 'DBC',\n",
       " 'DCA',\n",
       " 'DCB',\n",
       " 'DCC',\n",
       " 'DCD',\n",
       " 'DDA',\n",
       " 'DDB',\n",
       " 'EAA',\n",
       " 'EAB',\n",
       " 'EAC',\n",
       " 'EBA',\n",
       " 'ECA',\n",
       " 'FAA',\n",
       " 'FBA',\n",
       " 'FBB',\n",
       " 'FCA',\n",
       " 'FCB',\n",
       " 'GAA',\n",
       " 'GAB',\n",
       " 'GAC',\n",
       " 'GBA',\n",
       " 'GBB',\n",
       " 'GBC',\n",
       " 'GBD']"
      ]
     },
     "execution_count": 36,
     "metadata": {},
     "output_type": "execute_result"
    }
   ],
   "source": [
    "level_3"
   ]
  },
  {
   "cell_type": "code",
   "execution_count": 35,
   "metadata": {},
   "outputs": [
    {
     "name": "stderr",
     "output_type": "stream",
     "text": [
      "C:\\Users\\Administrator\\AppData\\Local\\Temp\\ipykernel_13564\\1515366886.py:3: PerformanceWarning: DataFrame is highly fragmented.  This is usually the result of calling `frame.insert` many times, which has poor performance.  Consider joining all columns at once using pd.concat(axis=1) instead.  To get a de-fragmented frame, use `newframe = frame.copy()`\n",
      "  new_data[i] = data[columns_to_aggregate].sum(axis=1).round(7)\n"
     ]
    },
    {
     "data": {
      "text/html": [
       "<div>\n",
       "<style scoped>\n",
       "    .dataframe tbody tr th:only-of-type {\n",
       "        vertical-align: middle;\n",
       "    }\n",
       "\n",
       "    .dataframe tbody tr th {\n",
       "        vertical-align: top;\n",
       "    }\n",
       "\n",
       "    .dataframe thead th {\n",
       "        text-align: right;\n",
       "    }\n",
       "</style>\n",
       "<table border=\"1\" class=\"dataframe\">\n",
       "  <thead>\n",
       "    <tr style=\"text-align: right;\">\n",
       "      <th></th>\n",
       "      <th>Year</th>\n",
       "      <th>Month</th>\n",
       "      <th>T</th>\n",
       "      <th>A</th>\n",
       "      <th>B</th>\n",
       "      <th>C</th>\n",
       "      <th>D</th>\n",
       "      <th>E</th>\n",
       "      <th>F</th>\n",
       "      <th>G</th>\n",
       "      <th>...</th>\n",
       "      <th>FBB</th>\n",
       "      <th>FCA</th>\n",
       "      <th>FCB</th>\n",
       "      <th>GAA</th>\n",
       "      <th>GAB</th>\n",
       "      <th>GAC</th>\n",
       "      <th>GBA</th>\n",
       "      <th>GBB</th>\n",
       "      <th>GBC</th>\n",
       "      <th>GBD</th>\n",
       "    </tr>\n",
       "  </thead>\n",
       "  <tbody>\n",
       "    <tr>\n",
       "      <th>0</th>\n",
       "      <td>1998.0</td>\n",
       "      <td>1</td>\n",
       "      <td>45151.071280</td>\n",
       "      <td>17515.502380</td>\n",
       "      <td>10393.618016</td>\n",
       "      <td>8633.359047</td>\n",
       "      <td>3504.313346</td>\n",
       "      <td>3121.619189</td>\n",
       "      <td>1850.735774</td>\n",
       "      <td>131.923529</td>\n",
       "      <td>...</td>\n",
       "      <td>531.590022</td>\n",
       "      <td>195.512426</td>\n",
       "      <td>46.957156</td>\n",
       "      <td>46.848028</td>\n",
       "      <td>2.584923</td>\n",
       "      <td>21.127603</td>\n",
       "      <td>22.131027</td>\n",
       "      <td>19.776870</td>\n",
       "      <td>9.165171</td>\n",
       "      <td>10.289907</td>\n",
       "    </tr>\n",
       "    <tr>\n",
       "      <th>1</th>\n",
       "      <td>1998.0</td>\n",
       "      <td>2</td>\n",
       "      <td>17294.699551</td>\n",
       "      <td>5880.367918</td>\n",
       "      <td>3855.647839</td>\n",
       "      <td>3580.051065</td>\n",
       "      <td>1321.257992</td>\n",
       "      <td>1826.610676</td>\n",
       "      <td>757.079744</td>\n",
       "      <td>73.684316</td>\n",
       "      <td>...</td>\n",
       "      <td>257.746664</td>\n",
       "      <td>93.882862</td>\n",
       "      <td>28.023033</td>\n",
       "      <td>44.456176</td>\n",
       "      <td>5.687391</td>\n",
       "      <td>11.815504</td>\n",
       "      <td>1.199800</td>\n",
       "      <td>4.706087</td>\n",
       "      <td>5.296459</td>\n",
       "      <td>0.522899</td>\n",
       "    </tr>\n",
       "    <tr>\n",
       "      <th>2</th>\n",
       "      <td>1998.0</td>\n",
       "      <td>3</td>\n",
       "      <td>20725.114184</td>\n",
       "      <td>7086.444392</td>\n",
       "      <td>4353.379282</td>\n",
       "      <td>4717.676663</td>\n",
       "      <td>1521.950007</td>\n",
       "      <td>1868.381530</td>\n",
       "      <td>900.796622</td>\n",
       "      <td>276.485688</td>\n",
       "      <td>...</td>\n",
       "      <td>169.789166</td>\n",
       "      <td>114.067194</td>\n",
       "      <td>28.969209</td>\n",
       "      <td>204.127403</td>\n",
       "      <td>17.247262</td>\n",
       "      <td>32.853019</td>\n",
       "      <td>3.973355</td>\n",
       "      <td>0.889453</td>\n",
       "      <td>17.395196</td>\n",
       "      <td>0.000000</td>\n",
       "    </tr>\n",
       "    <tr>\n",
       "      <th>3</th>\n",
       "      <td>1998.0</td>\n",
       "      <td>4</td>\n",
       "      <td>25388.612353</td>\n",
       "      <td>10530.639348</td>\n",
       "      <td>5115.865531</td>\n",
       "      <td>4924.575204</td>\n",
       "      <td>1813.439177</td>\n",
       "      <td>1952.612466</td>\n",
       "      <td>801.444140</td>\n",
       "      <td>250.036488</td>\n",
       "      <td>...</td>\n",
       "      <td>151.483965</td>\n",
       "      <td>119.710116</td>\n",
       "      <td>42.567232</td>\n",
       "      <td>148.208669</td>\n",
       "      <td>25.497905</td>\n",
       "      <td>5.355521</td>\n",
       "      <td>0.000000</td>\n",
       "      <td>15.282432</td>\n",
       "      <td>42.421868</td>\n",
       "      <td>13.270093</td>\n",
       "    </tr>\n",
       "    <tr>\n",
       "      <th>4</th>\n",
       "      <td>1998.0</td>\n",
       "      <td>5</td>\n",
       "      <td>20330.035211</td>\n",
       "      <td>7430.373559</td>\n",
       "      <td>3820.666426</td>\n",
       "      <td>4219.283647</td>\n",
       "      <td>1375.082095</td>\n",
       "      <td>2616.965317</td>\n",
       "      <td>551.377058</td>\n",
       "      <td>316.287109</td>\n",
       "      <td>...</td>\n",
       "      <td>179.807921</td>\n",
       "      <td>59.264950</td>\n",
       "      <td>16.851261</td>\n",
       "      <td>115.786396</td>\n",
       "      <td>63.965084</td>\n",
       "      <td>21.110838</td>\n",
       "      <td>2.628572</td>\n",
       "      <td>19.877964</td>\n",
       "      <td>92.918256</td>\n",
       "      <td>0.000000</td>\n",
       "    </tr>\n",
       "  </tbody>\n",
       "</table>\n",
       "<p>5 rows × 113 columns</p>\n",
       "</div>"
      ],
      "text/plain": [
       "     Year  Month             T             A             B            C  \\\n",
       "0  1998.0      1  45151.071280  17515.502380  10393.618016  8633.359047   \n",
       "1  1998.0      2  17294.699551   5880.367918   3855.647839  3580.051065   \n",
       "2  1998.0      3  20725.114184   7086.444392   4353.379282  4717.676663   \n",
       "3  1998.0      4  25388.612353  10530.639348   5115.865531  4924.575204   \n",
       "4  1998.0      5  20330.035211   7430.373559   3820.666426  4219.283647   \n",
       "\n",
       "             D            E            F           G  ...         FBB  \\\n",
       "0  3504.313346  3121.619189  1850.735774  131.923529  ...  531.590022   \n",
       "1  1321.257992  1826.610676   757.079744   73.684316  ...  257.746664   \n",
       "2  1521.950007  1868.381530   900.796622  276.485688  ...  169.789166   \n",
       "3  1813.439177  1952.612466   801.444140  250.036488  ...  151.483965   \n",
       "4  1375.082095  2616.965317   551.377058  316.287109  ...  179.807921   \n",
       "\n",
       "          FCA        FCB         GAA        GAB        GAC        GBA  \\\n",
       "0  195.512426  46.957156   46.848028   2.584923  21.127603  22.131027   \n",
       "1   93.882862  28.023033   44.456176   5.687391  11.815504   1.199800   \n",
       "2  114.067194  28.969209  204.127403  17.247262  32.853019   3.973355   \n",
       "3  119.710116  42.567232  148.208669  25.497905   5.355521   0.000000   \n",
       "4   59.264950  16.851261  115.786396  63.965084  21.110838   2.628572   \n",
       "\n",
       "         GBB        GBC        GBD  \n",
       "0  19.776870   9.165171  10.289907  \n",
       "1   4.706087   5.296459   0.522899  \n",
       "2   0.889453  17.395196   0.000000  \n",
       "3  15.282432  42.421868  13.270093  \n",
       "4  19.877964  92.918256   0.000000  \n",
       "\n",
       "[5 rows x 113 columns]"
      ]
     },
     "execution_count": 35,
     "metadata": {},
     "output_type": "execute_result"
    }
   ],
   "source": [
    "for i in level_3:\n",
    "    columns_to_aggregate = [col for col in tags if col.startswith(i)]\n",
    "    new_data[i] = data[columns_to_aggregate].sum(axis=1).round(7)\n",
    "new_data.head()"
   ]
  },
  {
   "cell_type": "code",
   "execution_count": 37,
   "metadata": {},
   "outputs": [
    {
     "data": {
      "text/html": [
       "<div>\n",
       "<style scoped>\n",
       "    .dataframe tbody tr th:only-of-type {\n",
       "        vertical-align: middle;\n",
       "    }\n",
       "\n",
       "    .dataframe tbody tr th {\n",
       "        vertical-align: top;\n",
       "    }\n",
       "\n",
       "    .dataframe thead th {\n",
       "        text-align: right;\n",
       "    }\n",
       "</style>\n",
       "<table border=\"1\" class=\"dataframe\">\n",
       "  <thead>\n",
       "    <tr style=\"text-align: right;\">\n",
       "      <th></th>\n",
       "      <th>Year</th>\n",
       "      <th>Month</th>\n",
       "      <th>T</th>\n",
       "      <th>A</th>\n",
       "      <th>B</th>\n",
       "      <th>C</th>\n",
       "      <th>D</th>\n",
       "      <th>E</th>\n",
       "      <th>F</th>\n",
       "      <th>G</th>\n",
       "      <th>...</th>\n",
       "      <th>FBB</th>\n",
       "      <th>FCA</th>\n",
       "      <th>FCB</th>\n",
       "      <th>GAA</th>\n",
       "      <th>GAB</th>\n",
       "      <th>GAC</th>\n",
       "      <th>GBA</th>\n",
       "      <th>GBB</th>\n",
       "      <th>GBC</th>\n",
       "      <th>GBD</th>\n",
       "    </tr>\n",
       "  </thead>\n",
       "  <tbody>\n",
       "    <tr>\n",
       "      <th>0</th>\n",
       "      <td>1998.0</td>\n",
       "      <td>1</td>\n",
       "      <td>45151.071280</td>\n",
       "      <td>17515.502380</td>\n",
       "      <td>10393.618016</td>\n",
       "      <td>8633.359047</td>\n",
       "      <td>3504.313346</td>\n",
       "      <td>3121.619189</td>\n",
       "      <td>1850.735774</td>\n",
       "      <td>131.923529</td>\n",
       "      <td>...</td>\n",
       "      <td>531.590022</td>\n",
       "      <td>195.512426</td>\n",
       "      <td>46.957156</td>\n",
       "      <td>46.848028</td>\n",
       "      <td>2.584923</td>\n",
       "      <td>21.127603</td>\n",
       "      <td>22.131027</td>\n",
       "      <td>19.776870</td>\n",
       "      <td>9.165171</td>\n",
       "      <td>10.289907</td>\n",
       "    </tr>\n",
       "    <tr>\n",
       "      <th>1</th>\n",
       "      <td>1998.0</td>\n",
       "      <td>2</td>\n",
       "      <td>17294.699551</td>\n",
       "      <td>5880.367918</td>\n",
       "      <td>3855.647839</td>\n",
       "      <td>3580.051065</td>\n",
       "      <td>1321.257992</td>\n",
       "      <td>1826.610676</td>\n",
       "      <td>757.079744</td>\n",
       "      <td>73.684316</td>\n",
       "      <td>...</td>\n",
       "      <td>257.746664</td>\n",
       "      <td>93.882862</td>\n",
       "      <td>28.023033</td>\n",
       "      <td>44.456176</td>\n",
       "      <td>5.687391</td>\n",
       "      <td>11.815504</td>\n",
       "      <td>1.199800</td>\n",
       "      <td>4.706087</td>\n",
       "      <td>5.296459</td>\n",
       "      <td>0.522899</td>\n",
       "    </tr>\n",
       "    <tr>\n",
       "      <th>2</th>\n",
       "      <td>1998.0</td>\n",
       "      <td>3</td>\n",
       "      <td>20725.114184</td>\n",
       "      <td>7086.444392</td>\n",
       "      <td>4353.379282</td>\n",
       "      <td>4717.676663</td>\n",
       "      <td>1521.950007</td>\n",
       "      <td>1868.381530</td>\n",
       "      <td>900.796622</td>\n",
       "      <td>276.485688</td>\n",
       "      <td>...</td>\n",
       "      <td>169.789166</td>\n",
       "      <td>114.067194</td>\n",
       "      <td>28.969209</td>\n",
       "      <td>204.127403</td>\n",
       "      <td>17.247262</td>\n",
       "      <td>32.853019</td>\n",
       "      <td>3.973355</td>\n",
       "      <td>0.889453</td>\n",
       "      <td>17.395196</td>\n",
       "      <td>0.000000</td>\n",
       "    </tr>\n",
       "    <tr>\n",
       "      <th>3</th>\n",
       "      <td>1998.0</td>\n",
       "      <td>4</td>\n",
       "      <td>25388.612353</td>\n",
       "      <td>10530.639348</td>\n",
       "      <td>5115.865531</td>\n",
       "      <td>4924.575204</td>\n",
       "      <td>1813.439177</td>\n",
       "      <td>1952.612466</td>\n",
       "      <td>801.444140</td>\n",
       "      <td>250.036488</td>\n",
       "      <td>...</td>\n",
       "      <td>151.483965</td>\n",
       "      <td>119.710116</td>\n",
       "      <td>42.567232</td>\n",
       "      <td>148.208669</td>\n",
       "      <td>25.497905</td>\n",
       "      <td>5.355521</td>\n",
       "      <td>0.000000</td>\n",
       "      <td>15.282432</td>\n",
       "      <td>42.421868</td>\n",
       "      <td>13.270093</td>\n",
       "    </tr>\n",
       "    <tr>\n",
       "      <th>4</th>\n",
       "      <td>1998.0</td>\n",
       "      <td>5</td>\n",
       "      <td>20330.035211</td>\n",
       "      <td>7430.373559</td>\n",
       "      <td>3820.666426</td>\n",
       "      <td>4219.283647</td>\n",
       "      <td>1375.082095</td>\n",
       "      <td>2616.965317</td>\n",
       "      <td>551.377058</td>\n",
       "      <td>316.287109</td>\n",
       "      <td>...</td>\n",
       "      <td>179.807921</td>\n",
       "      <td>59.264950</td>\n",
       "      <td>16.851261</td>\n",
       "      <td>115.786396</td>\n",
       "      <td>63.965084</td>\n",
       "      <td>21.110838</td>\n",
       "      <td>2.628572</td>\n",
       "      <td>19.877964</td>\n",
       "      <td>92.918256</td>\n",
       "      <td>0.000000</td>\n",
       "    </tr>\n",
       "  </tbody>\n",
       "</table>\n",
       "<p>5 rows × 113 columns</p>\n",
       "</div>"
      ],
      "text/plain": [
       "     Year  Month             T             A             B            C  \\\n",
       "0  1998.0      1  45151.071280  17515.502380  10393.618016  8633.359047   \n",
       "1  1998.0      2  17294.699551   5880.367918   3855.647839  3580.051065   \n",
       "2  1998.0      3  20725.114184   7086.444392   4353.379282  4717.676663   \n",
       "3  1998.0      4  25388.612353  10530.639348   5115.865531  4924.575204   \n",
       "4  1998.0      5  20330.035211   7430.373559   3820.666426  4219.283647   \n",
       "\n",
       "             D            E            F           G  ...         FBB  \\\n",
       "0  3504.313346  3121.619189  1850.735774  131.923529  ...  531.590022   \n",
       "1  1321.257992  1826.610676   757.079744   73.684316  ...  257.746664   \n",
       "2  1521.950007  1868.381530   900.796622  276.485688  ...  169.789166   \n",
       "3  1813.439177  1952.612466   801.444140  250.036488  ...  151.483965   \n",
       "4  1375.082095  2616.965317   551.377058  316.287109  ...  179.807921   \n",
       "\n",
       "          FCA        FCB         GAA        GAB        GAC        GBA  \\\n",
       "0  195.512426  46.957156   46.848028   2.584923  21.127603  22.131027   \n",
       "1   93.882862  28.023033   44.456176   5.687391  11.815504   1.199800   \n",
       "2  114.067194  28.969209  204.127403  17.247262  32.853019   3.973355   \n",
       "3  119.710116  42.567232  148.208669  25.497905   5.355521   0.000000   \n",
       "4   59.264950  16.851261  115.786396  63.965084  21.110838   2.628572   \n",
       "\n",
       "         GBB        GBC        GBD  \n",
       "0  19.776870   9.165171  10.289907  \n",
       "1   4.706087   5.296459   0.522899  \n",
       "2   0.889453  17.395196   0.000000  \n",
       "3  15.282432  42.421868  13.270093  \n",
       "4  19.877964  92.918256   0.000000  \n",
       "\n",
       "[5 rows x 113 columns]"
      ]
     },
     "execution_count": 37,
     "metadata": {},
     "output_type": "execute_result"
    }
   ],
   "source": [
    "new_data.head()"
   ]
  },
  {
   "cell_type": "code",
   "execution_count": 41,
   "metadata": {},
   "outputs": [
    {
     "data": {
      "text/plain": [
       "45151.0712801"
      ]
     },
     "execution_count": 41,
     "metadata": {},
     "output_type": "execute_result"
    }
   ],
   "source": [
    "new_data.iloc[0,2]"
   ]
  },
  {
   "cell_type": "code",
   "execution_count": 42,
   "metadata": {},
   "outputs": [],
   "source": [
    "new_data.to_csv('../Data/Tourism/Tourism_process.csv',index=False)"
   ]
  },
  {
   "cell_type": "code",
   "execution_count": 43,
   "metadata": {},
   "outputs": [
    {
     "data": {
      "text/plain": [
       "(228, 113)"
      ]
     },
     "execution_count": 43,
     "metadata": {},
     "output_type": "execute_result"
    }
   ],
   "source": [
    "new_data.shape"
   ]
  },
  {
   "cell_type": "code",
   "execution_count": 44,
   "metadata": {},
   "outputs": [
    {
     "data": {
      "text/plain": [
       "76"
      ]
     },
     "execution_count": 44,
     "metadata": {},
     "output_type": "execute_result"
    }
   ],
   "source": [
    "len(level_3)"
   ]
  },
  {
   "cell_type": "code",
   "execution_count": 45,
   "metadata": {},
   "outputs": [
    {
     "data": {
      "text/plain": [
       "array([[1., 1., 1., ..., 1., 1., 1.],\n",
       "       [0., 0., 0., ..., 0., 0., 0.],\n",
       "       [0., 0., 0., ..., 0., 0., 0.],\n",
       "       ...,\n",
       "       [0., 0., 0., ..., 0., 0., 0.],\n",
       "       [0., 0., 0., ..., 0., 0., 0.],\n",
       "       [0., 0., 0., ..., 0., 0., 0.]])"
      ]
     },
     "execution_count": 45,
     "metadata": {},
     "output_type": "execute_result"
    }
   ],
   "source": [
    "import numpy as np\n",
    "S = np.zeros((111,76))\n",
    "S[0,:] = [1 for i in range(76)]\n",
    "S"
   ]
  },
  {
   "cell_type": "code",
   "execution_count": 46,
   "metadata": {},
   "outputs": [
    {
     "name": "stdout",
     "output_type": "stream",
     "text": [
      "111\n"
     ]
    }
   ],
   "source": [
    "level = new_data.columns[2:]\n",
    "print(len(level))"
   ]
  },
  {
   "cell_type": "code",
   "execution_count": 47,
   "metadata": {},
   "outputs": [
    {
     "data": {
      "text/plain": [
       "array([[1., 1., 1., ..., 1., 1., 1.],\n",
       "       [1., 1., 1., ..., 0., 0., 0.],\n",
       "       [0., 0., 0., ..., 0., 0., 0.],\n",
       "       ...,\n",
       "       [0., 0., 0., ..., 1., 0., 0.],\n",
       "       [0., 0., 0., ..., 0., 1., 0.],\n",
       "       [0., 0., 0., ..., 0., 0., 1.]])"
      ]
     },
     "execution_count": 47,
     "metadata": {},
     "output_type": "execute_result"
    }
   ],
   "source": [
    "for j in range(76):\n",
    "    for i in range(1,111):\n",
    "        if level_3[j].startswith(level[i]):\n",
    "            S[i,j] = 1\n",
    "S\n"
   ]
  },
  {
   "cell_type": "code",
   "execution_count": 59,
   "metadata": {},
   "outputs": [],
   "source": [
    "import json\n",
    "S_mat = S.tolist()\n",
    "with open('../Data/Tourism/Tourism_Smat.json','w') as file:\n",
    "    file.write(json.dumps(S_mat,indent=4))"
   ]
  },
  {
   "cell_type": "code",
   "execution_count": 48,
   "metadata": {},
   "outputs": [
    {
     "name": "stdout",
     "output_type": "stream",
     "text": [
      "7 27 76\n"
     ]
    }
   ],
   "source": [
    "print(len(level_1),len(level_2),len(level_3))"
   ]
  },
  {
   "cell_type": "code",
   "execution_count": 49,
   "metadata": {},
   "outputs": [
    {
     "data": {
      "text/plain": [
       "False"
      ]
     },
     "execution_count": 49,
     "metadata": {},
     "output_type": "execute_result"
    }
   ],
   "source": [
    "data.iloc[:,2:].isnull().values.any()"
   ]
  },
  {
   "cell_type": "code",
   "execution_count": 50,
   "metadata": {},
   "outputs": [
    {
     "data": {
      "text/plain": [
       "Year     float64\n",
       "Month      int64\n",
       "T        float64\n",
       "A        float64\n",
       "B        float64\n",
       "          ...   \n",
       "GAC      float64\n",
       "GBA      float64\n",
       "GBB      float64\n",
       "GBC      float64\n",
       "GBD      float64\n",
       "Length: 113, dtype: object"
      ]
     },
     "execution_count": 50,
     "metadata": {},
     "output_type": "execute_result"
    }
   ],
   "source": [
    "new_data.dtypes"
   ]
  },
  {
   "cell_type": "code",
   "execution_count": 51,
   "metadata": {},
   "outputs": [
    {
     "data": {
      "text/plain": [
       "AAA      0\n",
       "AAB      1\n",
       "ABA      0\n",
       "ABB      0\n",
       "ACA      0\n",
       "      ... \n",
       "GAC    182\n",
       "GBA    227\n",
       "GBB    216\n",
       "GBC    151\n",
       "GBD    226\n",
       "Length: 76, dtype: int64"
      ]
     },
     "execution_count": 51,
     "metadata": {},
     "output_type": "execute_result"
    }
   ],
   "source": [
    "count_zero = (new_data.iloc[:,-76:] < 100).sum(axis=0)\n",
    "count_zero"
   ]
  },
  {
   "cell_type": "code",
   "execution_count": 63,
   "metadata": {},
   "outputs": [
    {
     "data": {
      "image/png": "[encoded data removed]",
      "text/plain": [
       "<Figure size 864x648 with 4 Axes>"
      ]
     },
     "metadata": {
      "needs_background": "light"
     },
     "output_type": "display_data"
    }
   ],
   "source": [
    "import random\n",
    "random.seed(10)\n",
    "l1 = random.sample(level_1,3)\n",
    "l2 = random.sample(level_2,3)\n",
    "l3 = random.sample(level_3,3)\n",
    "l1.sort()\n",
    "l2.sort()\n",
    "l3.sort()\n",
    "x = [i for i in range(1,229)]\n",
    "\n",
    "fig,axs = plt.subplots(2,2,figsize = (12,9))\n",
    "axs[0,0].plot(x,new_data['T'],label='T',color='black',linewidth=1)\n",
    "axs[0,0].legend()\n",
    "axs[0,0].set_title('Level_1')\n",
    "axs[0,0].set_xlabel('Time')\n",
    "\n",
    "colors = ['red','green','blue']\n",
    "for i in range(3):\n",
    "    axs[0,1].plot(x,new_data[l1[i]],label=l1[i],color=colors[i],linewidth=1)\n",
    "axs[0,1].legend()\n",
    "axs[0,1].set_title('Level_2')\n",
    "axs[0,1].set_xlabel('Time')\n",
    "\n",
    "for i in range(3):\n",
    "    axs[1,0].plot(x,new_data[l2[i]],label=l2[i],color=colors[i],linewidth=1)\n",
    "axs[1,0].legend()\n",
    "axs[1,0].set_title('Level_3')\n",
    "axs[1,0].set_xlabel('Time')\n",
    "\n",
    "for i in range(3):\n",
    "    axs[1,1].plot(x,new_data[l3[i]],label=l3[i],color=colors[i],linewidth=1)\n",
    "axs[1,1].legend()\n",
    "axs[1,1].set_title('Level_4')\n",
    "axs[1,1].set_xlabel('Time')\n",
    "\n",
    "plt.tight_layout()\n",
    "\n",
    "plt.savefig('../Plot_new/Tourism/plot_data.png')\n",
    "plt.show()"
   ]
  },
  {
   "cell_type": "code",
   "execution_count": 56,
   "metadata": {},
   "outputs": [],
   "source": [
    "from_list = []\n",
    "to_list = []\n",
    "\n",
    "for i in range(len(level_1)):\n",
    "    from_list.append('T')\n",
    "    to_list.append(level_1[i])\n",
    "\n",
    "for i in level_1:\n",
    "    for j in level_2:\n",
    "        if j.startswith(i):\n",
    "            from_list.append(i)\n",
    "            to_list.append(j)\n",
    "\n",
    "for i in level_2:\n",
    "    for j in level_3:\n",
    "        if j.startswith(i):\n",
    "            from_list.append(i)\n",
    "            to_list.append(j)"
   ]
  },
  {
   "cell_type": "code",
   "execution_count": 59,
   "metadata": {},
   "outputs": [
    {
     "data": {
      "text/plain": [
       "110"
      ]
     },
     "execution_count": 59,
     "metadata": {},
     "output_type": "execute_result"
    }
   ],
   "source": [
    "len(from_list)"
   ]
  },
  {
   "cell_type": "code",
   "execution_count": 62,
   "metadata": {},
   "outputs": [],
   "source": [
    "import json\n",
    "a = [from_list,to_list]\n",
    "with open('../Plot_new/Tourism/Hierarchy_info.json','w') as file:\n",
    "    file.write(json.dumps(a))"
   ]
  }
 ],
 "metadata": {
  "kernelspec": {
   "display_name": "base",
   "language": "python",
   "name": "python3"
  },
  "language_info": {
   "codemirror_mode": {
    "name": "ipython",
    "version": 3
   },
   "file_extension": ".py",
   "mimetype": "text/x-python",
   "name": "python",
   "nbconvert_exporter": "python",
   "pygments_lexer": "ipython3",
   "version": "3.9.7"
  }
 },
 "nbformat": 4,
 "nbformat_minor": 2
}
