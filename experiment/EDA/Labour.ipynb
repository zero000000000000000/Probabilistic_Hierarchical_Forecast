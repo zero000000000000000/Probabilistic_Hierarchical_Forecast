{
 "cells": [
  {
   "cell_type": "code",
   "execution_count": 1,
   "metadata": {},
   "outputs": [],
   "source": [
    "import pandas as pd\n",
    "import numpy as np"
   ]
  },
  {
   "cell_type": "code",
   "execution_count": 5,
   "metadata": {},
   "outputs": [
    {
     "name": "stdout",
     "output_type": "stream",
     "text": [
      "d:\\HierarchicalCode\\experiment\n"
     ]
    }
   ],
   "source": [
    "cd ./experiment"
   ]
  },
  {
   "cell_type": "code",
   "execution_count": 6,
   "metadata": {},
   "outputs": [],
   "source": [
    "df = pd.read_csv('./Data/Labour/Labour_v1.csv')"
   ]
  },
  {
   "cell_type": "code",
   "execution_count": 7,
   "metadata": {},
   "outputs": [
    {
     "data": {
      "text/html": [
       "<div>\n",
       "<style scoped>\n",
       "    .dataframe tbody tr th:only-of-type {\n",
       "        vertical-align: middle;\n",
       "    }\n",
       "\n",
       "    .dataframe tbody tr th {\n",
       "        vertical-align: top;\n",
       "    }\n",
       "\n",
       "    .dataframe thead th {\n",
       "        text-align: right;\n",
       "    }\n",
       "</style>\n",
       "<table border=\"1\" class=\"dataframe\">\n",
       "  <thead>\n",
       "    <tr style=\"text-align: right;\">\n",
       "      <th></th>\n",
       "      <th>D1ACT</th>\n",
       "      <th>D1NSW</th>\n",
       "      <th>D1NTT</th>\n",
       "      <th>D1QLD</th>\n",
       "      <th>D1SAS</th>\n",
       "      <th>D1TAS</th>\n",
       "      <th>D1VIC</th>\n",
       "      <th>D1WAS</th>\n",
       "      <th>D2ACT</th>\n",
       "      <th>D2NSW</th>\n",
       "      <th>...</th>\n",
       "      <th>D5VIC</th>\n",
       "      <th>D5WAS</th>\n",
       "      <th>D6ACT</th>\n",
       "      <th>D6NSW</th>\n",
       "      <th>D6NTT</th>\n",
       "      <th>D6QLD</th>\n",
       "      <th>D6SAS</th>\n",
       "      <th>D6TAS</th>\n",
       "      <th>D6VIC</th>\n",
       "      <th>D6WAS</th>\n",
       "    </tr>\n",
       "  </thead>\n",
       "  <tbody>\n",
       "    <tr>\n",
       "      <th>0</th>\n",
       "      <td>2.701850</td>\n",
       "      <td>53.782372</td>\n",
       "      <td>2.984962</td>\n",
       "      <td>40.686998</td>\n",
       "      <td>9.271744</td>\n",
       "      <td>3.364680</td>\n",
       "      <td>45.473963</td>\n",
       "      <td>22.580506</td>\n",
       "      <td>3.133759</td>\n",
       "      <td>61.652898</td>\n",
       "      <td>...</td>\n",
       "      <td>17.538582</td>\n",
       "      <td>5.214742</td>\n",
       "      <td>0.367928</td>\n",
       "      <td>16.860223</td>\n",
       "      <td>0.139036</td>\n",
       "      <td>6.330440</td>\n",
       "      <td>3.593529</td>\n",
       "      <td>1.179660</td>\n",
       "      <td>10.366934</td>\n",
       "      <td>3.250125</td>\n",
       "    </tr>\n",
       "    <tr>\n",
       "      <th>1</th>\n",
       "      <td>3.305742</td>\n",
       "      <td>47.328292</td>\n",
       "      <td>1.971169</td>\n",
       "      <td>37.365316</td>\n",
       "      <td>12.327465</td>\n",
       "      <td>4.774221</td>\n",
       "      <td>42.830643</td>\n",
       "      <td>20.158905</td>\n",
       "      <td>3.572756</td>\n",
       "      <td>61.603329</td>\n",
       "      <td>...</td>\n",
       "      <td>18.414610</td>\n",
       "      <td>6.707148</td>\n",
       "      <td>0.210671</td>\n",
       "      <td>20.265481</td>\n",
       "      <td>0.279254</td>\n",
       "      <td>8.405723</td>\n",
       "      <td>4.110126</td>\n",
       "      <td>1.658407</td>\n",
       "      <td>10.966615</td>\n",
       "      <td>2.074800</td>\n",
       "    </tr>\n",
       "    <tr>\n",
       "      <th>2</th>\n",
       "      <td>2.317278</td>\n",
       "      <td>57.995064</td>\n",
       "      <td>1.739439</td>\n",
       "      <td>37.917729</td>\n",
       "      <td>15.396455</td>\n",
       "      <td>3.810122</td>\n",
       "      <td>43.697750</td>\n",
       "      <td>22.767141</td>\n",
       "      <td>2.471964</td>\n",
       "      <td>60.094375</td>\n",
       "      <td>...</td>\n",
       "      <td>16.850856</td>\n",
       "      <td>6.932790</td>\n",
       "      <td>0.409812</td>\n",
       "      <td>16.670117</td>\n",
       "      <td>0.181172</td>\n",
       "      <td>4.882602</td>\n",
       "      <td>2.834854</td>\n",
       "      <td>1.475184</td>\n",
       "      <td>13.644304</td>\n",
       "      <td>1.725014</td>\n",
       "    </tr>\n",
       "    <tr>\n",
       "      <th>3</th>\n",
       "      <td>2.188015</td>\n",
       "      <td>39.770708</td>\n",
       "      <td>1.197572</td>\n",
       "      <td>27.075070</td>\n",
       "      <td>13.305205</td>\n",
       "      <td>2.948634</td>\n",
       "      <td>35.912069</td>\n",
       "      <td>17.779737</td>\n",
       "      <td>2.675181</td>\n",
       "      <td>59.018252</td>\n",
       "      <td>...</td>\n",
       "      <td>21.314809</td>\n",
       "      <td>3.775494</td>\n",
       "      <td>0.415074</td>\n",
       "      <td>16.296055</td>\n",
       "      <td>0.083090</td>\n",
       "      <td>7.108898</td>\n",
       "      <td>3.003127</td>\n",
       "      <td>1.811858</td>\n",
       "      <td>9.516248</td>\n",
       "      <td>2.135875</td>\n",
       "    </tr>\n",
       "    <tr>\n",
       "      <th>4</th>\n",
       "      <td>2.924518</td>\n",
       "      <td>38.368701</td>\n",
       "      <td>1.231574</td>\n",
       "      <td>30.506926</td>\n",
       "      <td>10.473634</td>\n",
       "      <td>2.771684</td>\n",
       "      <td>38.015843</td>\n",
       "      <td>14.801310</td>\n",
       "      <td>2.201142</td>\n",
       "      <td>41.915375</td>\n",
       "      <td>...</td>\n",
       "      <td>19.697489</td>\n",
       "      <td>5.245745</td>\n",
       "      <td>0.574770</td>\n",
       "      <td>17.353686</td>\n",
       "      <td>0.154018</td>\n",
       "      <td>5.823962</td>\n",
       "      <td>4.508797</td>\n",
       "      <td>1.630008</td>\n",
       "      <td>10.296375</td>\n",
       "      <td>2.502778</td>\n",
       "    </tr>\n",
       "  </tbody>\n",
       "</table>\n",
       "<p>5 rows × 48 columns</p>\n",
       "</div>"
      ],
      "text/plain": [
       "      D1ACT      D1NSW     D1NTT      D1QLD      D1SAS     D1TAS      D1VIC  \\\n",
       "0  2.701850  53.782372  2.984962  40.686998   9.271744  3.364680  45.473963   \n",
       "1  3.305742  47.328292  1.971169  37.365316  12.327465  4.774221  42.830643   \n",
       "2  2.317278  57.995064  1.739439  37.917729  15.396455  3.810122  43.697750   \n",
       "3  2.188015  39.770708  1.197572  27.075070  13.305205  2.948634  35.912069   \n",
       "4  2.924518  38.368701  1.231574  30.506926  10.473634  2.771684  38.015843   \n",
       "\n",
       "       D1WAS     D2ACT      D2NSW  ...      D5VIC     D5WAS     D6ACT  \\\n",
       "0  22.580506  3.133759  61.652898  ...  17.538582  5.214742  0.367928   \n",
       "1  20.158905  3.572756  61.603329  ...  18.414610  6.707148  0.210671   \n",
       "2  22.767141  2.471964  60.094375  ...  16.850856  6.932790  0.409812   \n",
       "3  17.779737  2.675181  59.018252  ...  21.314809  3.775494  0.415074   \n",
       "4  14.801310  2.201142  41.915375  ...  19.697489  5.245745  0.574770   \n",
       "\n",
       "       D6NSW     D6NTT     D6QLD     D6SAS     D6TAS      D6VIC     D6WAS  \n",
       "0  16.860223  0.139036  6.330440  3.593529  1.179660  10.366934  3.250125  \n",
       "1  20.265481  0.279254  8.405723  4.110126  1.658407  10.966615  2.074800  \n",
       "2  16.670117  0.181172  4.882602  2.834854  1.475184  13.644304  1.725014  \n",
       "3  16.296055  0.083090  7.108898  3.003127  1.811858   9.516248  2.135875  \n",
       "4  17.353686  0.154018  5.823962  4.508797  1.630008  10.296375  2.502778  \n",
       "\n",
       "[5 rows x 48 columns]"
      ]
     },
     "execution_count": 7,
     "metadata": {},
     "output_type": "execute_result"
    }
   ],
   "source": [
    "df.head()"
   ]
  },
  {
   "cell_type": "code",
   "execution_count": 7,
   "metadata": {},
   "outputs": [],
   "source": [
    "t_label = ['D1','D2','D3','D4','D5','D6']"
   ]
  },
  {
   "cell_type": "code",
   "execution_count": 8,
   "metadata": {},
   "outputs": [],
   "source": [
    "label = df.columns.tolist()"
   ]
  },
  {
   "cell_type": "code",
   "execution_count": 9,
   "metadata": {},
   "outputs": [
    {
     "data": {
      "text/plain": [
       "['SAS', 'WAS', 'ACT', 'VIC', 'NSW', 'TAS', 'QLD', 'NTT']"
      ]
     },
     "execution_count": 9,
     "metadata": {},
     "output_type": "execute_result"
    }
   ],
   "source": [
    "p_l = []\n",
    "for i in label:\n",
    "    p_l.append(i[2:])\n",
    "p_label = list(set(p_l))\n",
    "p_label"
   ]
  },
  {
   "cell_type": "code",
   "execution_count": 10,
   "metadata": {},
   "outputs": [],
   "source": [
    "dft = pd.DataFrame({'T':df.sum(axis=1).round(6)})\n",
    "dfp = pd.DataFrame({'T':df.sum(axis=1).round(6)})\n",
    "\n",
    "for i in t_label:\n",
    "    lis = []\n",
    "    for j in label:\n",
    "        if j.startswith(i):\n",
    "            lis.append(j)\n",
    "    dft[i] = df[lis].sum(axis=1).round(6)\n",
    "\n"
   ]
  },
  {
   "cell_type": "code",
   "execution_count": 14,
   "metadata": {},
   "outputs": [
    {
     "data": {
      "text/html": [
       "<div>\n",
       "<style scoped>\n",
       "    .dataframe tbody tr th:only-of-type {\n",
       "        vertical-align: middle;\n",
       "    }\n",
       "\n",
       "    .dataframe tbody tr th {\n",
       "        vertical-align: top;\n",
       "    }\n",
       "\n",
       "    .dataframe thead th {\n",
       "        text-align: right;\n",
       "    }\n",
       "</style>\n",
       "<table border=\"1\" class=\"dataframe\">\n",
       "  <thead>\n",
       "    <tr style=\"text-align: right;\">\n",
       "      <th></th>\n",
       "      <th>T</th>\n",
       "      <th>D1</th>\n",
       "      <th>D2</th>\n",
       "      <th>D3</th>\n",
       "      <th>D4</th>\n",
       "      <th>D5</th>\n",
       "      <th>D6</th>\n",
       "    </tr>\n",
       "  </thead>\n",
       "  <tbody>\n",
       "    <tr>\n",
       "      <th>0</th>\n",
       "      <td>654.089779</td>\n",
       "      <td>180.847074</td>\n",
       "      <td>195.246569</td>\n",
       "      <td>80.348487</td>\n",
       "      <td>89.097831</td>\n",
       "      <td>66.461943</td>\n",
       "      <td>42.087876</td>\n",
       "    </tr>\n",
       "    <tr>\n",
       "      <th>1</th>\n",
       "      <td>690.541271</td>\n",
       "      <td>170.061753</td>\n",
       "      <td>211.106853</td>\n",
       "      <td>100.195049</td>\n",
       "      <td>85.040781</td>\n",
       "      <td>76.165757</td>\n",
       "      <td>47.971078</td>\n",
       "    </tr>\n",
       "    <tr>\n",
       "      <th>2</th>\n",
       "      <td>666.738961</td>\n",
       "      <td>185.640978</td>\n",
       "      <td>189.944251</td>\n",
       "      <td>96.186596</td>\n",
       "      <td>85.435386</td>\n",
       "      <td>67.708691</td>\n",
       "      <td>41.823059</td>\n",
       "    </tr>\n",
       "    <tr>\n",
       "      <th>3</th>\n",
       "      <td>642.749255</td>\n",
       "      <td>140.177010</td>\n",
       "      <td>176.866081</td>\n",
       "      <td>134.954099</td>\n",
       "      <td>74.640310</td>\n",
       "      <td>75.741530</td>\n",
       "      <td>40.370225</td>\n",
       "    </tr>\n",
       "    <tr>\n",
       "      <th>4</th>\n",
       "      <td>604.614103</td>\n",
       "      <td>139.094190</td>\n",
       "      <td>140.189493</td>\n",
       "      <td>132.812691</td>\n",
       "      <td>77.209408</td>\n",
       "      <td>72.463927</td>\n",
       "      <td>42.844395</td>\n",
       "    </tr>\n",
       "    <tr>\n",
       "      <th>...</th>\n",
       "      <td>...</td>\n",
       "      <td>...</td>\n",
       "      <td>...</td>\n",
       "      <td>...</td>\n",
       "      <td>...</td>\n",
       "      <td>...</td>\n",
       "      <td>...</td>\n",
       "    </tr>\n",
       "    <tr>\n",
       "      <th>158</th>\n",
       "      <td>546.957539</td>\n",
       "      <td>145.692527</td>\n",
       "      <td>177.650841</td>\n",
       "      <td>68.588771</td>\n",
       "      <td>45.699012</td>\n",
       "      <td>43.499453</td>\n",
       "      <td>65.826935</td>\n",
       "    </tr>\n",
       "    <tr>\n",
       "      <th>159</th>\n",
       "      <td>543.102875</td>\n",
       "      <td>124.543054</td>\n",
       "      <td>162.125443</td>\n",
       "      <td>115.797700</td>\n",
       "      <td>52.620600</td>\n",
       "      <td>42.934615</td>\n",
       "      <td>45.081462</td>\n",
       "    </tr>\n",
       "    <tr>\n",
       "      <th>160</th>\n",
       "      <td>511.927252</td>\n",
       "      <td>111.217172</td>\n",
       "      <td>130.821925</td>\n",
       "      <td>120.609537</td>\n",
       "      <td>55.435883</td>\n",
       "      <td>39.669194</td>\n",
       "      <td>54.173541</td>\n",
       "    </tr>\n",
       "    <tr>\n",
       "      <th>161</th>\n",
       "      <td>488.143678</td>\n",
       "      <td>106.188467</td>\n",
       "      <td>115.658553</td>\n",
       "      <td>108.184499</td>\n",
       "      <td>55.845800</td>\n",
       "      <td>48.357024</td>\n",
       "      <td>53.909335</td>\n",
       "    </tr>\n",
       "    <tr>\n",
       "      <th>162</th>\n",
       "      <td>528.118409</td>\n",
       "      <td>139.126733</td>\n",
       "      <td>118.662892</td>\n",
       "      <td>78.649964</td>\n",
       "      <td>83.795810</td>\n",
       "      <td>49.499379</td>\n",
       "      <td>58.383631</td>\n",
       "    </tr>\n",
       "  </tbody>\n",
       "</table>\n",
       "<p>163 rows × 7 columns</p>\n",
       "</div>"
      ],
      "text/plain": [
       "              T          D1          D2          D3         D4         D5  \\\n",
       "0    654.089779  180.847074  195.246569   80.348487  89.097831  66.461943   \n",
       "1    690.541271  170.061753  211.106853  100.195049  85.040781  76.165757   \n",
       "2    666.738961  185.640978  189.944251   96.186596  85.435386  67.708691   \n",
       "3    642.749255  140.177010  176.866081  134.954099  74.640310  75.741530   \n",
       "4    604.614103  139.094190  140.189493  132.812691  77.209408  72.463927   \n",
       "..          ...         ...         ...         ...        ...        ...   \n",
       "158  546.957539  145.692527  177.650841   68.588771  45.699012  43.499453   \n",
       "159  543.102875  124.543054  162.125443  115.797700  52.620600  42.934615   \n",
       "160  511.927252  111.217172  130.821925  120.609537  55.435883  39.669194   \n",
       "161  488.143678  106.188467  115.658553  108.184499  55.845800  48.357024   \n",
       "162  528.118409  139.126733  118.662892   78.649964  83.795810  49.499379   \n",
       "\n",
       "            D6  \n",
       "0    42.087876  \n",
       "1    47.971078  \n",
       "2    41.823059  \n",
       "3    40.370225  \n",
       "4    42.844395  \n",
       "..         ...  \n",
       "158  65.826935  \n",
       "159  45.081462  \n",
       "160  54.173541  \n",
       "161  53.909335  \n",
       "162  58.383631  \n",
       "\n",
       "[163 rows x 7 columns]"
      ]
     },
     "execution_count": 14,
     "metadata": {},
     "output_type": "execute_result"
    }
   ],
   "source": [
    "dft"
   ]
  },
  {
   "cell_type": "code",
   "execution_count": 11,
   "metadata": {},
   "outputs": [],
   "source": [
    "for i in p_label:\n",
    "    lis = []\n",
    "    for j in label:\n",
    "        if j.endswith(i):\n",
    "            lis.append(j)\n",
    "    dfp[i] = df[lis].sum(axis=1).round(6)"
   ]
  },
  {
   "cell_type": "code",
   "execution_count": 16,
   "metadata": {},
   "outputs": [
    {
     "data": {
      "text/html": [
       "<div>\n",
       "<style scoped>\n",
       "    .dataframe tbody tr th:only-of-type {\n",
       "        vertical-align: middle;\n",
       "    }\n",
       "\n",
       "    .dataframe tbody tr th {\n",
       "        vertical-align: top;\n",
       "    }\n",
       "\n",
       "    .dataframe thead th {\n",
       "        text-align: right;\n",
       "    }\n",
       "</style>\n",
       "<table border=\"1\" class=\"dataframe\">\n",
       "  <thead>\n",
       "    <tr style=\"text-align: right;\">\n",
       "      <th></th>\n",
       "      <th>T</th>\n",
       "      <th>SAS</th>\n",
       "      <th>NTT</th>\n",
       "      <th>NSW</th>\n",
       "      <th>QLD</th>\n",
       "      <th>VIC</th>\n",
       "      <th>ACT</th>\n",
       "      <th>WAS</th>\n",
       "      <th>TAS</th>\n",
       "    </tr>\n",
       "  </thead>\n",
       "  <tbody>\n",
       "    <tr>\n",
       "      <th>0</th>\n",
       "      <td>654.089779</td>\n",
       "      <td>40.967937</td>\n",
       "      <td>6.434842</td>\n",
       "      <td>216.563371</td>\n",
       "      <td>141.551039</td>\n",
       "      <td>163.468081</td>\n",
       "      <td>8.428555</td>\n",
       "      <td>63.543285</td>\n",
       "      <td>13.132668</td>\n",
       "    </tr>\n",
       "    <tr>\n",
       "      <th>1</th>\n",
       "      <td>690.541271</td>\n",
       "      <td>45.031115</td>\n",
       "      <td>4.213999</td>\n",
       "      <td>214.594912</td>\n",
       "      <td>154.493633</td>\n",
       "      <td>171.083243</td>\n",
       "      <td>9.843126</td>\n",
       "      <td>72.567324</td>\n",
       "      <td>18.713919</td>\n",
       "    </tr>\n",
       "    <tr>\n",
       "      <th>2</th>\n",
       "      <td>666.738961</td>\n",
       "      <td>48.942466</td>\n",
       "      <td>4.423821</td>\n",
       "      <td>208.539245</td>\n",
       "      <td>145.169526</td>\n",
       "      <td>168.679587</td>\n",
       "      <td>7.656968</td>\n",
       "      <td>69.050683</td>\n",
       "      <td>14.276665</td>\n",
       "    </tr>\n",
       "    <tr>\n",
       "      <th>3</th>\n",
       "      <td>642.749255</td>\n",
       "      <td>49.933426</td>\n",
       "      <td>3.955536</td>\n",
       "      <td>211.811891</td>\n",
       "      <td>133.721774</td>\n",
       "      <td>161.906719</td>\n",
       "      <td>7.338766</td>\n",
       "      <td>60.209303</td>\n",
       "      <td>13.871840</td>\n",
       "    </tr>\n",
       "    <tr>\n",
       "      <th>4</th>\n",
       "      <td>604.614103</td>\n",
       "      <td>44.526917</td>\n",
       "      <td>3.126829</td>\n",
       "      <td>190.623310</td>\n",
       "      <td>132.850354</td>\n",
       "      <td>159.231406</td>\n",
       "      <td>7.909907</td>\n",
       "      <td>52.107507</td>\n",
       "      <td>14.237875</td>\n",
       "    </tr>\n",
       "    <tr>\n",
       "      <th>...</th>\n",
       "      <td>...</td>\n",
       "      <td>...</td>\n",
       "      <td>...</td>\n",
       "      <td>...</td>\n",
       "      <td>...</td>\n",
       "      <td>...</td>\n",
       "      <td>...</td>\n",
       "      <td>...</td>\n",
       "      <td>...</td>\n",
       "    </tr>\n",
       "    <tr>\n",
       "      <th>158</th>\n",
       "      <td>546.957539</td>\n",
       "      <td>38.603466</td>\n",
       "      <td>5.596008</td>\n",
       "      <td>155.371257</td>\n",
       "      <td>122.803859</td>\n",
       "      <td>146.697786</td>\n",
       "      <td>8.203611</td>\n",
       "      <td>57.252829</td>\n",
       "      <td>12.428723</td>\n",
       "    </tr>\n",
       "    <tr>\n",
       "      <th>159</th>\n",
       "      <td>543.102875</td>\n",
       "      <td>42.917706</td>\n",
       "      <td>5.181219</td>\n",
       "      <td>151.345068</td>\n",
       "      <td>116.090352</td>\n",
       "      <td>150.699590</td>\n",
       "      <td>8.021527</td>\n",
       "      <td>57.169050</td>\n",
       "      <td>11.678362</td>\n",
       "    </tr>\n",
       "    <tr>\n",
       "      <th>160</th>\n",
       "      <td>511.927252</td>\n",
       "      <td>38.812880</td>\n",
       "      <td>4.324576</td>\n",
       "      <td>135.640674</td>\n",
       "      <td>119.333879</td>\n",
       "      <td>136.748553</td>\n",
       "      <td>7.885889</td>\n",
       "      <td>56.615012</td>\n",
       "      <td>12.565789</td>\n",
       "    </tr>\n",
       "    <tr>\n",
       "      <th>161</th>\n",
       "      <td>488.143678</td>\n",
       "      <td>40.188734</td>\n",
       "      <td>4.387626</td>\n",
       "      <td>128.949268</td>\n",
       "      <td>108.250682</td>\n",
       "      <td>130.756842</td>\n",
       "      <td>9.479170</td>\n",
       "      <td>55.608383</td>\n",
       "      <td>10.522973</td>\n",
       "    </tr>\n",
       "    <tr>\n",
       "      <th>162</th>\n",
       "      <td>528.118409</td>\n",
       "      <td>39.855379</td>\n",
       "      <td>5.155924</td>\n",
       "      <td>144.575186</td>\n",
       "      <td>131.611273</td>\n",
       "      <td>129.168547</td>\n",
       "      <td>10.352379</td>\n",
       "      <td>52.475894</td>\n",
       "      <td>14.923828</td>\n",
       "    </tr>\n",
       "  </tbody>\n",
       "</table>\n",
       "<p>163 rows × 9 columns</p>\n",
       "</div>"
      ],
      "text/plain": [
       "              T        SAS       NTT         NSW         QLD         VIC  \\\n",
       "0    654.089779  40.967937  6.434842  216.563371  141.551039  163.468081   \n",
       "1    690.541271  45.031115  4.213999  214.594912  154.493633  171.083243   \n",
       "2    666.738961  48.942466  4.423821  208.539245  145.169526  168.679587   \n",
       "3    642.749255  49.933426  3.955536  211.811891  133.721774  161.906719   \n",
       "4    604.614103  44.526917  3.126829  190.623310  132.850354  159.231406   \n",
       "..          ...        ...       ...         ...         ...         ...   \n",
       "158  546.957539  38.603466  5.596008  155.371257  122.803859  146.697786   \n",
       "159  543.102875  42.917706  5.181219  151.345068  116.090352  150.699590   \n",
       "160  511.927252  38.812880  4.324576  135.640674  119.333879  136.748553   \n",
       "161  488.143678  40.188734  4.387626  128.949268  108.250682  130.756842   \n",
       "162  528.118409  39.855379  5.155924  144.575186  131.611273  129.168547   \n",
       "\n",
       "           ACT        WAS        TAS  \n",
       "0     8.428555  63.543285  13.132668  \n",
       "1     9.843126  72.567324  18.713919  \n",
       "2     7.656968  69.050683  14.276665  \n",
       "3     7.338766  60.209303  13.871840  \n",
       "4     7.909907  52.107507  14.237875  \n",
       "..         ...        ...        ...  \n",
       "158   8.203611  57.252829  12.428723  \n",
       "159   8.021527  57.169050  11.678362  \n",
       "160   7.885889  56.615012  12.565789  \n",
       "161   9.479170  55.608383  10.522973  \n",
       "162  10.352379  52.475894  14.923828  \n",
       "\n",
       "[163 rows x 9 columns]"
      ]
     },
     "execution_count": 16,
     "metadata": {},
     "output_type": "execute_result"
    }
   ],
   "source": [
    "dfp"
   ]
  },
  {
   "cell_type": "code",
   "execution_count": 12,
   "metadata": {},
   "outputs": [],
   "source": [
    "dft1 = pd.concat((dft,df),axis=1)"
   ]
  },
  {
   "cell_type": "code",
   "execution_count": 13,
   "metadata": {},
   "outputs": [],
   "source": [
    "dfp1 = pd.concat((dfp,df),axis=1)"
   ]
  },
  {
   "cell_type": "code",
   "execution_count": 25,
   "metadata": {},
   "outputs": [],
   "source": [
    "dft1.to_csv('./Data/Labour/labour_process_time.csv',index=False)\n",
    "dfp1.to_csv('./Data/Labour/labour_process_place.csv',index=False)"
   ]
  },
  {
   "cell_type": "code",
   "execution_count": 26,
   "metadata": {},
   "outputs": [
    {
     "data": {
      "text/plain": [
       "(163, 57)"
      ]
     },
     "execution_count": 26,
     "metadata": {},
     "output_type": "execute_result"
    }
   ],
   "source": [
    "dfp1.shape"
   ]
  },
  {
   "cell_type": "code",
   "execution_count": 27,
   "metadata": {},
   "outputs": [
    {
     "data": {
      "text/plain": [
       "array([[1., 1., 1., ..., 1., 1., 1.],\n",
       "       [0., 0., 0., ..., 0., 0., 0.],\n",
       "       [0., 0., 0., ..., 0., 0., 0.],\n",
       "       ...,\n",
       "       [0., 0., 0., ..., 0., 0., 0.],\n",
       "       [0., 0., 0., ..., 0., 0., 0.],\n",
       "       [0., 0., 0., ..., 0., 0., 0.]])"
      ]
     },
     "execution_count": 27,
     "metadata": {},
     "output_type": "execute_result"
    }
   ],
   "source": [
    "S = np.zeros((57,48))\n",
    "S[0,:] = [1 for i in range(48)]\n",
    "S"
   ]
  },
  {
   "cell_type": "code",
   "execution_count": 14,
   "metadata": {},
   "outputs": [
    {
     "data": {
      "text/plain": [
       "57"
      ]
     },
     "execution_count": 14,
     "metadata": {},
     "output_type": "execute_result"
    }
   ],
   "source": [
    "ll = ['T']\n",
    "ll.extend(p_label)\n",
    "ll.extend(label)\n",
    "len(ll)"
   ]
  },
  {
   "cell_type": "code",
   "execution_count": 15,
   "metadata": {},
   "outputs": [],
   "source": [
    "lss = [\"D6ACT\",\"D1ACT\" ,\"D1QLD\" ,\"D1SAS\" ,\"D1TAS\"]\n",
    "ind = []\n",
    "for i in lss:\n",
    "    ind.append(ll.index(i)+1)"
   ]
  },
  {
   "cell_type": "code",
   "execution_count": 10,
   "metadata": {},
   "outputs": [
    {
     "data": {
      "text/plain": [
       "[50, 10, 13, 14, 15]"
      ]
     },
     "execution_count": 10,
     "metadata": {},
     "output_type": "execute_result"
    }
   ],
   "source": [
    "ind"
   ]
  },
  {
   "cell_type": "code",
   "execution_count": 11,
   "metadata": {},
   "outputs": [
    {
     "data": {
      "text/plain": [
       "['T',\n",
       " 'NSW',\n",
       " 'TAS',\n",
       " 'QLD',\n",
       " 'WAS',\n",
       " 'NTT',\n",
       " 'VIC',\n",
       " 'ACT',\n",
       " 'SAS',\n",
       " 'D1ACT',\n",
       " 'D1NSW',\n",
       " 'D1NTT',\n",
       " 'D1QLD',\n",
       " 'D1SAS',\n",
       " 'D1TAS',\n",
       " 'D1VIC',\n",
       " 'D1WAS',\n",
       " 'D2ACT',\n",
       " 'D2NSW',\n",
       " 'D2NTT',\n",
       " 'D2QLD',\n",
       " 'D2SAS',\n",
       " 'D2TAS',\n",
       " 'D2VIC',\n",
       " 'D2WAS',\n",
       " 'D3ACT',\n",
       " 'D3NSW',\n",
       " 'D3NTT',\n",
       " 'D3QLD',\n",
       " 'D3SAS',\n",
       " 'D3TAS',\n",
       " 'D3VIC',\n",
       " 'D3WAS',\n",
       " 'D4ACT',\n",
       " 'D4NSW',\n",
       " 'D4NTT',\n",
       " 'D4QLD',\n",
       " 'D4SAS',\n",
       " 'D4TAS',\n",
       " 'D4VIC',\n",
       " 'D4WAS',\n",
       " 'D5ACT',\n",
       " 'D5NSW',\n",
       " 'D5NTT',\n",
       " 'D5QLD',\n",
       " 'D5SAS',\n",
       " 'D5TAS',\n",
       " 'D5VIC',\n",
       " 'D5WAS',\n",
       " 'D6ACT',\n",
       " 'D6NSW',\n",
       " 'D6NTT',\n",
       " 'D6QLD',\n",
       " 'D6SAS',\n",
       " 'D6TAS',\n",
       " 'D6VIC',\n",
       " 'D6WAS']"
      ]
     },
     "execution_count": 11,
     "metadata": {},
     "output_type": "execute_result"
    }
   ],
   "source": [
    "ll"
   ]
  },
  {
   "cell_type": "code",
   "execution_count": 32,
   "metadata": {},
   "outputs": [
    {
     "data": {
      "text/plain": [
       "array([[1., 1., 1., ..., 1., 1., 1.],\n",
       "       [0., 0., 0., ..., 0., 0., 0.],\n",
       "       [0., 0., 1., ..., 0., 0., 0.],\n",
       "       ...,\n",
       "       [0., 0., 0., ..., 1., 0., 0.],\n",
       "       [0., 0., 0., ..., 0., 1., 0.],\n",
       "       [0., 0., 0., ..., 0., 0., 1.]])"
      ]
     },
     "execution_count": 32,
     "metadata": {},
     "output_type": "execute_result"
    }
   ],
   "source": [
    "for j in range(48):\n",
    "    for i in range(1,57):\n",
    "        if label[j].endswith(ll[i]):\n",
    "            S[i,j] = 1\n",
    "S"
   ]
  },
  {
   "cell_type": "code",
   "execution_count": 37,
   "metadata": {},
   "outputs": [],
   "source": [
    "import json\n",
    "S_mat = S.tolist()\n",
    "with open('./Data/Labour/Labour_Smat.json','w') as file:\n",
    "    file.write(json.dumps(S_mat,indent=4))"
   ]
  },
  {
   "cell_type": "code",
   "execution_count": 16,
   "metadata": {},
   "outputs": [
    {
     "data": {
      "image/png": "[encoded data removed]",
      "text/plain": [
       "<Figure size 864x648 with 3 Axes>"
      ]
     },
     "metadata": {
      "needs_background": "light"
     },
     "output_type": "display_data"
    }
   ],
   "source": [
    "import random\n",
    "import matplotlib.pyplot as plt\n",
    "\n",
    "random.seed(10)\n",
    "level_1 = p_label\n",
    "level_2 = label\n",
    "l1 = random.sample(level_1,3)\n",
    "l2 = random.sample(level_2,3)\n",
    "# l3 = random.sample(level_3,3)\n",
    "l1.sort()\n",
    "l2.sort()\n",
    "\n",
    "config = {\n",
    "    \"font.family\": 'serif',\n",
    "    \"font.size\": 18,\n",
    "    \"mathtext.fontset\": 'stix',\n",
    "    \"font.serif\": ['SimHei'],\n",
    "}\n",
    "plt.rcParams.update(config)\n",
    "\n",
    "x = [i for i in range(1,164)]\n",
    "\n",
    "fig,axs = plt.subplots(3,1,figsize = (12,9))\n",
    "axs[0].plot(x,dfp1['T'],label='T',color='black',linewidth=1)\n",
    "axs[0].legend()\n",
    "axs[0].set_title('层次1')\n",
    "axs[0].set_xlabel('时间')\n",
    "\n",
    "colors = ['red','green','blue']\n",
    "for i in range(3):\n",
    "    axs[1].plot(x,dfp1[l1[i]],label=l1[i],color=colors[i],linewidth=1)\n",
    "axs[1].legend()\n",
    "axs[1].set_title('层次2')\n",
    "axs[1].set_xlabel('时间')\n",
    "\n",
    "for i in range(3):\n",
    "    axs[2].plot(x,df[l2[i]],label=l2[i],color=colors[i],linewidth=1)\n",
    "axs[2].legend()\n",
    "axs[2].set_title('层次3')\n",
    "axs[2].set_xlabel('时间')\n",
    "\n",
    "\n",
    "plt.tight_layout()\n",
    "\n",
    "plt.savefig('./Plot_new/Labour/plot_data.png')\n",
    "plt.show()"
   ]
  },
  {
   "cell_type": "code",
   "execution_count": 44,
   "metadata": {},
   "outputs": [],
   "source": [
    "from_list = []\n",
    "to_list = []\n",
    "\n",
    "for i in range(len(level_1)):\n",
    "    from_list.append('T')\n",
    "    to_list.append(level_1[i])\n",
    "\n",
    "for i in level_1:\n",
    "    for j in level_2:\n",
    "        if j.endswith(i):\n",
    "            from_list.append(i)\n",
    "            to_list.append(j)\n",
    "\n"
   ]
  },
  {
   "cell_type": "code",
   "execution_count": 45,
   "metadata": {},
   "outputs": [
    {
     "data": {
      "text/plain": [
       "56"
      ]
     },
     "execution_count": 45,
     "metadata": {},
     "output_type": "execute_result"
    }
   ],
   "source": [
    "len(from_list)"
   ]
  },
  {
   "cell_type": "code",
   "execution_count": 47,
   "metadata": {},
   "outputs": [],
   "source": [
    "import json\n",
    "a = [from_list,to_list]\n",
    "with open('./Plot_new/Labour/Hierarchy_info.json','w') as file:\n",
    "    file.write(json.dumps(a))"
   ]
  }
 ],
 "metadata": {
  "kernelspec": {
   "display_name": "base",
   "language": "python",
   "name": "python3"
  },
  "language_info": {
   "codemirror_mode": {
    "name": "ipython",
    "version": 3
   },
   "file_extension": ".py",
   "mimetype": "text/x-python",
   "name": "python",
   "nbconvert_exporter": "python",
   "pygments_lexer": "ipython3",
   "version": "3.9.7"
  }
 },
 "nbformat": 4,
 "nbformat_minor": 2
}
